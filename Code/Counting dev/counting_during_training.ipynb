{
 "cells": [
  {
   "cell_type": "code",
   "execution_count": null,
   "metadata": {},
   "outputs": [],
   "source": [
    "import numpy as np\n",
    "import torch\n",
    "import matplotlib.pyplot as plt\n",
    "from itertools import islice\n",
    "import plotly.graph_objects as go\n",
    "from torchviz import make_dot\n",
    "from sklearn.model_selection import train_test_split\n",
    "\n",
    "np.random.seed(0)\n",
    "torch.manual_seed(0)"
   ]
  },
  {
   "cell_type": "code",
   "execution_count": 2,
   "metadata": {},
   "outputs": [],
   "source": [
    "# Generate data\n",
    "n = 100\n",
    "x1 = np.random.uniform(-2*np.pi, 2*np.pi, n)\n",
    "x2 = np.random.uniform(-2*np.pi, 2*np.pi, n)\n",
    "x1 = np.sort(x1)                              # TODO:Try without sorting\n",
    "x2 = np.sort(x2)\n",
    "x1,x2 = np.meshgrid(x1,x2)\n",
    "x = np.concatenate((x1.reshape(-1, 1), x2.reshape(-1, 1)), axis=1)\n",
    "y = x[:,0]**2 + x[:,1]**2\n",
    "\n",
    "x_train, x_test, y_train, y_test = train_test_split(x, y, test_size=0.2, random_state=0)\n",
    "\n",
    "x_train = torch.tensor(x_train, dtype=torch.float32)\n",
    "x_test = torch.tensor(x_test, dtype=torch.float32)\n",
    "y_train = torch.tensor(y_train, dtype=torch.float32)\n",
    "y_test = torch.tensor(y_test, dtype=torch.float32)"
   ]
  },
  {
   "cell_type": "code",
   "execution_count": 3,
   "metadata": {},
   "outputs": [],
   "source": [
    "class MLP(torch.nn.Module):\n",
    "    def __init__(self):\n",
    "        super(MLP, self).__init__()\n",
    "        self.layers = torch.nn.ModuleList()\n",
    "        self.layers.append(torch.nn.Linear(2, 10))\n",
    "        self.layers.append(torch.nn.Linear(10, 5))\n",
    "        self.layers.append(torch.nn.Linear(5, 1))\n",
    "        self.init_weights_random()\n",
    "\n",
    "    def init_weights_random(self):\n",
    "        for layer in self.layers:\n",
    "            torch.nn.init.normal_(layer.weight)\n",
    "            torch.nn.init.normal_(layer.bias)\n",
    "\n",
    "    def forward(self, x):\n",
    "        activation = []\n",
    "        for layer in self.layers[:-1]:\n",
    "            x = torch.relu(layer(x))\n",
    "            activation.append( (x > 0).squeeze().int() )\n",
    "\n",
    "        x = self.layers[-1](x)\n",
    "        activation = torch.cat(activation, dim=1)\n",
    "        return x, activation\n",
    "    \n",
    "model = MLP()"
   ]
  },
  {
   "cell_type": "code",
   "execution_count": 4,
   "metadata": {},
   "outputs": [],
   "source": [
    "def count_regions(activation, return_inverse=False):\n",
    "    unique_activation = torch.unique(activation, dim=0, return_inverse=return_inverse)\n",
    "    if return_inverse:\n",
    "        return unique_activation[0].shape[0], unique_activation[1]\n",
    "    return unique_activation.shape[0]"
   ]
  },
  {
   "cell_type": "code",
   "execution_count": null,
   "metadata": {},
   "outputs": [],
   "source": [
    "criterion = torch.nn.MSELoss()\n",
    "optimizer = torch.optim.Adam(model.parameters(), lr=0.01)\n",
    "\n",
    "n_epochs = 1000\n",
    "n_regions = []\n",
    "for epoch in range(n_epochs):   #TODO: Compare time without couting regions\n",
    "    optimizer.zero_grad()\n",
    "    y_pred, activation = model(x_train)\n",
    "    regions = count_regions(activation, return_inverse=False)\n",
    "    n_regions.append(regions)\n",
    "    loss = criterion(y_pred.squeeze(), y_train)\n",
    "    loss.backward()\n",
    "    optimizer.step()\n",
    "    if epoch % 100 == 0:\n",
    "        print(f'Epoch: {epoch}, Loss: {loss.item()}')"
   ]
  },
  {
   "cell_type": "code",
   "execution_count": null,
   "metadata": {},
   "outputs": [],
   "source": [
    "# Test\n",
    "model.eval()\n",
    "y_pred, _ = model(x_test)\n",
    "loss = criterion(y_pred.squeeze(), y_test)\n",
    "print(f'Test Loss: {loss.item()}')\n",
    "\n",
    "# Plot the model function\n",
    "n_samples = 100\n",
    "x1 = np.linspace(-2*np.pi, 2*np.pi, n_samples)\n",
    "x2 = np.linspace(-2*np.pi, 2*np.pi, n_samples)\n",
    "x1, x2 = np.meshgrid(x1, x2)\n",
    "x = np.concatenate((x1.reshape(-1, 1), x2.reshape(-1, 1)), axis=1)\n",
    "x = torch.tensor(x, dtype=torch.float32)\n",
    "y_pred, activation = model(x)\n",
    "y_pred = y_pred.detach().numpy().reshape(n_samples, n_samples)\n",
    "fig = go.Figure(data=[go.Surface(z=y_pred, x=x1, y=x2)])\n",
    "fig.update_layout(title='Model function', autosize=False, width=500, height=500, margin=dict(l=65, r=50, b=65, t=90))\n",
    "fig.show()\n",
    "\n",
    "n_samples = 800\n",
    "x1 = np.linspace(-2*np.pi, 2*np.pi, n_samples)\n",
    "x2 = np.linspace(-2*np.pi, 2*np.pi, n_samples)\n",
    "x1, x2 = np.meshgrid(x1, x2)\n",
    "x = np.concatenate((x1.reshape(-1, 1), x2.reshape(-1, 1)), axis=1)\n",
    "x = torch.tensor(x, dtype=torch.float32)\n",
    "_, activation = model(x)\n",
    "_, inverse_indices = count_regions(activation, return_inverse=True)\n",
    "fig = go.Figure(data=[\n",
    "    go.Contour(\n",
    "        z=inverse_indices.numpy().reshape(n_samples, n_samples),\n",
    "        colorscale='Viridis',\n",
    "        showscale=False,\n",
    "    )\n",
    "])\n",
    "fig.update_layout(title='Input space partition')\n",
    "fig.show()\n",
    "\n",
    "# Plot then number of regions as a function of the number of epochs\n",
    "fig = go.Figure(data=go.Scatter(x=np.arange(n_epochs), y=n_regions, mode='lines'))\n",
    "fig.update_layout(title='Number of regions', xaxis_title='Epoch', yaxis_title='Number of regions')\n",
    "fig.show()"
   ]
  }
 ],
 "metadata": {
  "kernelspec": {
   "display_name": "base",
   "language": "python",
   "name": "python3"
  },
  "language_info": {
   "codemirror_mode": {
    "name": "ipython",
    "version": 3
   },
   "file_extension": ".py",
   "mimetype": "text/x-python",
   "name": "python",
   "nbconvert_exporter": "python",
   "pygments_lexer": "ipython3",
   "version": "3.11.5"
  }
 },
 "nbformat": 4,
 "nbformat_minor": 2
}
