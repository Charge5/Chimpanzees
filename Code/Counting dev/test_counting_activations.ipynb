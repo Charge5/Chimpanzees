{
 "cells": [
  {
   "cell_type": "code",
   "execution_count": null,
   "metadata": {},
   "outputs": [],
   "source": [
    "import numpy as np\n",
    "import torch\n",
    "import matplotlib.pyplot as plt\n",
    "from itertools import islice\n",
    "import plotly.graph_objects as go\n",
    "\n",
    "np.random.seed(0)\n",
    "torch.manual_seed(0)"
   ]
  },
  {
   "cell_type": "markdown",
   "metadata": {},
   "source": [
    "### 1D Input Network Example"
   ]
  },
  {
   "cell_type": "code",
   "execution_count": 5,
   "metadata": {},
   "outputs": [],
   "source": [
    "class FeedForwardNN(torch.nn.Module):\n",
    "    def __init__(self):\n",
    "        super(FeedForwardNN, self).__init__()\n",
    "        self.layers = torch.nn.ModuleList()\n",
    "        self.layers.append(torch.nn.Linear(1, 2))\n",
    "        self.layers.append(torch.nn.Linear(2, 2))\n",
    "        self.layers.append(torch.nn.Linear(2, 1))\n",
    "        self.init_weights()\n",
    "        self.n_hidden_layers = len(self.layers)-1\n",
    "\n",
    "    def init_weights(self):\n",
    "        for layer in self.layers:\n",
    "            torch.nn.init.uniform_(layer.weight)\n",
    "            torch.nn.init.uniform_(layer.bias)\n",
    "\n",
    "    def init_weights_const(self):\n",
    "        for i, layer in enumerate(self.layers):\n",
    "            torch.nn.init.constant_(layer.weight, i+1)\n",
    "            torch.nn.init.constant_(layer.bias, i+1)\n",
    "\n",
    "    def forward(self, x):\n",
    "        activation = []\n",
    "        for layer in self.layers[:-1]:\n",
    "            x = torch.relu(layer(x))\n",
    "            activation.append( (x > 0).squeeze().int() )\n",
    "\n",
    "        x = self.layers[-1](x)\n",
    "        activation = torch.cat(activation, dim=1)\n",
    "        return x, activation\n",
    "\n",
    "model = FeedForwardNN()"
   ]
  },
  {
   "cell_type": "code",
   "execution_count": null,
   "metadata": {},
   "outputs": [],
   "source": [
    "n_samples = 50000\n",
    "X = np.linspace(-10, 10, n_samples)\n",
    "X = torch.tensor(X).float().view(n_samples, 1)\n",
    "\n",
    "with torch.no_grad():\n",
    "    Y, activations = model(X)\n",
    "\n",
    "unique_activations, inverse_indices = torch.unique(activations, dim=0, return_inverse=True)\n",
    "print(f\"Unique activations: {unique_activations.shape[0]}\")"
   ]
  },
  {
   "cell_type": "code",
   "execution_count": null,
   "metadata": {},
   "outputs": [],
   "source": [
    "fig = go.Figure()\n",
    "\n",
    "fig.add_trace(go.Scatter(x=X.squeeze().tolist(), y=Y.squeeze().tolist(), mode='lines', name='Model'))\n",
    "for i, activation in enumerate(unique_activations):\n",
    "    fig.add_trace(go.Scatter(x=X.squeeze()[inverse_indices == i], y=0*np.zeros_like(X.squeeze()), mode='lines', name=f'Activation {activation}'))\n",
    "fig.update_layout(title='Model Function')\n",
    "fig.show()\n",
    "#fig.write_html(\"./Plots/1Dsurface+partition.html\")"
   ]
  },
  {
   "cell_type": "markdown",
   "metadata": {},
   "source": [
    "### 2D Input Network Example"
   ]
  },
  {
   "cell_type": "code",
   "execution_count": 8,
   "metadata": {},
   "outputs": [],
   "source": [
    "class FeedForwardNN2D(torch.nn.Module):\n",
    "    def __init__(self):\n",
    "        super(FeedForwardNN2D, self).__init__()\n",
    "        self.layers = torch.nn.ModuleList()\n",
    "        self.layers.append(torch.nn.Linear(2, 2))\n",
    "        self.layers.append(torch.nn.Linear(2, 2))\n",
    "        self.layers.append(torch.nn.Linear(2, 1))\n",
    "        self.init_weights_random()\n",
    "\n",
    "    def init_weights(self):\n",
    "        for layer in self.layers:\n",
    "            torch.nn.init.ones_(layer.weight)\n",
    "            torch.nn.init.zeros_(layer.bias)\n",
    "\n",
    "    def init_weights_random(self):\n",
    "        for layer in self.layers:\n",
    "            torch.nn.init.normal_(layer.weight)\n",
    "            torch.nn.init.normal_(layer.bias)\n",
    "\n",
    "    def forward(self, x):\n",
    "        activation = []\n",
    "        for layer in self.layers[:-1]:\n",
    "            x = torch.relu(layer(x))\n",
    "            activation.append( (x > 0).squeeze().int() )\n",
    "\n",
    "        x = self.layers[-1](x)\n",
    "        activation = torch.cat(activation, dim=1)\n",
    "        return x, activation\n",
    "    \n",
    "model = FeedForwardNN2D()"
   ]
  },
  {
   "cell_type": "code",
   "execution_count": null,
   "metadata": {},
   "outputs": [],
   "source": [
    "n_samples = 800\n",
    "boundary = 100\n",
    "X1 = np.linspace(-boundary, boundary, n_samples)\n",
    "X2 = np.linspace(-boundary, boundary, n_samples)\n",
    "X1, X2 = np.meshgrid(X1, X2)\n",
    "X = np.concatenate((X1.reshape(-1, 1), X2.reshape(-1, 1)), axis=1)\n",
    "X = torch.tensor(X).float().view(n_samples**2, 2)\n",
    "\n",
    "with torch.no_grad():\n",
    "    Y, activations = model(X)\n",
    "\n",
    "unique_activations, inverse_indices = torch.unique(activations, dim=0, return_inverse=True)\n",
    "print(f\"Unique activations: {unique_activations.shape[0]}\")"
   ]
  },
  {
   "cell_type": "code",
   "execution_count": null,
   "metadata": {},
   "outputs": [],
   "source": [
    "data = []\n",
    "data.append(\n",
    "    go.Surface(\n",
    "        z=Y.squeeze().numpy().reshape(n_samples, n_samples),\n",
    "        x=X1.tolist(),\n",
    "        y=X2.tolist(),\n",
    "        colorscale='Viridis',\n",
    "        showscale=False,\n",
    "        opacity=1,\n",
    "    )\n",
    ")\n",
    "data.append(\n",
    "    go.Surface(\n",
    "        z=np.max(Y.squeeze().numpy())*np.ones_like(X1)+5,\n",
    "        x=X1.tolist(),\n",
    "        y=X2.tolist(),\n",
    "        colorscale='Viridis',\n",
    "        showscale=False,\n",
    "        opacity=0.5,\n",
    "        name=f'Activation {activation}',\n",
    "        surfacecolor= inverse_indices.numpy().reshape(n_samples, n_samples)\n",
    "    )\n",
    ")\n",
    "fig = go.Figure(data=data)\n",
    "fig.update_layout(title='Model Function')\n",
    "fig.show()\n",
    "#fig.write_html(\"./Plots/2Dsurface+partition.html\")"
   ]
  },
  {
   "cell_type": "code",
   "execution_count": null,
   "metadata": {},
   "outputs": [],
   "source": [
    "fig = go.Figure()\n",
    "fig.add_trace(\n",
    "    go.Contour(\n",
    "        z=inverse_indices.numpy().reshape(n_samples, n_samples),\n",
    "        colorscale='Viridis',\n",
    "        showscale=False,\n",
    "    )\n",
    ")\n",
    "fig.update_layout(title='Input space partition')\n",
    "fig.show()\n",
    "#fig.write_html(\"./Plots/2Dpartition.html\")"
   ]
  }
 ],
 "metadata": {
  "kernelspec": {
   "display_name": "base",
   "language": "python",
   "name": "python3"
  },
  "language_info": {
   "codemirror_mode": {
    "name": "ipython",
    "version": 3
   },
   "file_extension": ".py",
   "mimetype": "text/x-python",
   "name": "python",
   "nbconvert_exporter": "python",
   "pygments_lexer": "ipython3",
   "version": "3.11.5"
  }
 },
 "nbformat": 4,
 "nbformat_minor": 2
}
