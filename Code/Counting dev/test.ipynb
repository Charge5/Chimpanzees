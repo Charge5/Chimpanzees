{
 "cells": [
  {
   "cell_type": "code",
   "execution_count": 1,
   "metadata": {},
   "outputs": [
    {
     "data": {
      "text/plain": [
       "<torch._C.Generator at 0x10b45a130>"
      ]
     },
     "execution_count": 1,
     "metadata": {},
     "output_type": "execute_result"
    }
   ],
   "source": [
    "import numpy as np\n",
    "import torch\n",
    "import matplotlib.pyplot as plt\n",
    "from itertools import islice\n",
    "import plotly.graph_objects as go\n",
    "\n",
    "np.random.seed(0)\n",
    "torch.manual_seed(0)"
   ]
  },
  {
   "cell_type": "markdown",
   "metadata": {},
   "source": [
    "### Test with 1D identity network : Edge case, not relevant imo"
   ]
  },
  {
   "cell_type": "code",
   "execution_count": 2,
   "metadata": {},
   "outputs": [],
   "source": [
    "class IdentityNN(torch.nn.Module):\n",
    "    def __init__(self):\n",
    "        super(IdentityNN, self).__init__()\n",
    "        self.fc1 = torch.nn.Linear(1, 2)\n",
    "        self.fc2 = torch.nn.Linear(2, 1)\n",
    "        self.init_weights()\n",
    "\n",
    "    def init_weights(self):\n",
    "        with torch.no_grad():\n",
    "            self.fc1.weight[:] = torch.tensor([[1.0], [-1.0]])\n",
    "            torch.nn.init.constant_(self.fc1.bias, 0)\n",
    "            torch.nn.init.constant_(self.fc2.bias, 0)\n",
    "            self.fc2.weight[:] = torch.tensor([[1.0, -1.0]])\n",
    "\n",
    "    def forward(self, x):\n",
    "        x = torch.relu(self.fc1(x))\n",
    "        output = self.fc2(x)\n",
    "        return output\n",
    "    \n",
    "model = IdentityNN()"
   ]
  },
  {
   "cell_type": "code",
   "execution_count": 3,
   "metadata": {},
   "outputs": [
    {
     "name": "stdout",
     "output_type": "stream",
     "text": [
      "Number of regions before gradient check:  2\n",
      "Gradients: \n",
      " [[1.]\n",
      " [1.]]\n",
      "Number of regions after gradient check:  1\n",
      "Final crossing times:  []\n"
     ]
    }
   ],
   "source": [
    "def compute_crossing_times(model, t_values):\n",
    "    \"\"\"\n",
    "    Compute the times where activations of neurons change.\n",
    "    \"\"\"\n",
    "    crossings = []\n",
    "    x = torch.tensor(t_values).float().view(-1, 1)      # Parametrize the line  \n",
    "    tol = 1e-5\n",
    "\n",
    "    for l,layer in enumerate(model.children()):         # Iterate over layers\n",
    "        x = layer(x)\n",
    "        activation = x > 0\n",
    "        for i in range(activation.shape[1]):            # Iterate over neurons of current layer\n",
    "            transition_indices = np.where(np.abs(np.diff(activation[:, i])) > 1/2)[0]\n",
    "            for idx in transition_indices:              # Info useful for debugging\n",
    "                crossings.append((l, i, t_values[idx]))\n",
    "        x = torch.relu(x)\n",
    "    crossing_times = [t for _,_,t in crossings]\n",
    "    crossing_times = np.unique(crossing_times, axis=0)\n",
    "    return crossing_times\n",
    "\n",
    "def compute_gradients(model, crossing_times):           # Finite difference approximation\n",
    "    \"\"\"\n",
    "    Compute the gradients of the model between each crossing times.\n",
    "    \"\"\"\n",
    "    dt = 1e-2\n",
    "    grad = []\n",
    "\n",
    "    eval_times = crossing_times - 2 * dt\n",
    "    eval_times = np.insert(eval_times,-1 , crossing_times[-1] + 2 * dt)\n",
    "    for t in eval_times:\n",
    "        x = torch.tensor([t, t + dt]).float().view(-1, 1)\n",
    "        with torch.no_grad():\n",
    "            y = model(x)\n",
    "        dy = np.diff(y.numpy().reshape(-1))\n",
    "        grad.append(dy/dt)\n",
    "    \n",
    "    grad = np.array(grad)\n",
    "    return grad\n",
    "\n",
    "t_values = np.linspace(-10, 10, 1000)\n",
    "crossing_times = compute_crossing_times(model, t_values)\n",
    "print(\"Number of regions before gradient check: \", len(crossing_times)+1)\n",
    "\n",
    "grad = compute_gradients(model, crossing_times)\n",
    "print(\"Gradients: \\n\", grad)\n",
    "# Gradient check\n",
    "for i in range(1, len(crossing_times)+1):\n",
    "    if np.abs(grad[i-1] - grad[i]) < 1e-8:\n",
    "        crossing_times = np.delete(crossing_times, i-1)\n",
    "\n",
    "print(\"Number of regions after gradient check: \", len(crossing_times)+1)\n",
    "print(\"Final crossing times: \", crossing_times)"
   ]
  },
  {
   "cell_type": "markdown",
   "metadata": {},
   "source": [
    "### Test with general 1D input network"
   ]
  },
  {
   "cell_type": "code",
   "execution_count": 4,
   "metadata": {},
   "outputs": [],
   "source": [
    "class FeedForwardNN(torch.nn.Module):\n",
    "    def __init__(self):\n",
    "        super(FeedForwardNN, self).__init__()\n",
    "        self.fc1 = torch.nn.Linear(1, 2)\n",
    "        self.fc2 = torch.nn.Linear(2, 2)\n",
    "        self.fc3 = torch.nn.Linear(2, 1)\n",
    "        self.init_weights()\n",
    "\n",
    "    def init_weights(self):\n",
    "        torch.nn.init.uniform_(self.fc1.weight)\n",
    "        torch.nn.init.uniform_(self.fc1.bias)\n",
    "        torch.nn.init.uniform_(self.fc2.weight)\n",
    "        torch.nn.init.uniform_(self.fc2.bias)\n",
    "        torch.nn.init.uniform_(self.fc3.weight)\n",
    "        torch.nn.init.uniform_(self.fc3.bias)\n",
    "\n",
    "    def init_weights_const(self):\n",
    "        torch.nn.init.constant_(self.fc1.weight, 1)\n",
    "        torch.nn.init.constant_(self.fc1.bias, 1)\n",
    "        torch.nn.init.constant_(self.fc2.weight, 2)\n",
    "        torch.nn.init.constant_(self.fc2.bias, 2)\n",
    "        torch.nn.init.constant_(self.fc3.weight, 3)\n",
    "        torch.nn.init.constant_(self.fc3.bias, 3)\n",
    "    \n",
    "    def forward(self, x):\n",
    "        x = self.fc1(x)\n",
    "        x = torch.relu(x)\n",
    "        x = self.fc2(x)\n",
    "        x = torch.relu(x)\n",
    "        output = self.fc3(x)\n",
    "        return output\n",
    "\n",
    "model = FeedForwardNN()"
   ]
  },
  {
   "cell_type": "code",
   "execution_count": 5,
   "metadata": {},
   "outputs": [
    {
     "name": "stdout",
     "output_type": "stream",
     "text": [
      "Number of regions after gradient check:  3\n",
      "Final crossing times:  [-0.95709571 -0.58305831]\n",
      "Gradients: \n",
      " [[0.        ]\n",
      " [0.87768435]\n",
      " [0.1852274 ]]\n"
     ]
    }
   ],
   "source": [
    "# Let it count\n",
    "\n",
    "t_values = np.linspace(-10, 10, 10000)\n",
    "x = torch.tensor(t_values).float().view(-1, 1)      # Parametrize the line\n",
    "crossing_times = compute_crossing_times(model, t_values)\n",
    "grad = compute_gradients(model, crossing_times)\n",
    "\n",
    "for i in range(1, len(crossing_times)+1):\n",
    "    if np.abs(grad[i-1] - grad[i]) < 1e-5:\n",
    "        crossing_times = np.delete(crossing_times, i-1)\n",
    "\n",
    "print(\"Number of regions after gradient check: \", len(crossing_times)+1)\n",
    "print(\"Final crossing times: \", crossing_times)\n",
    "print(\"Gradients: \\n\", grad)"
   ]
  },
  {
   "cell_type": "code",
   "execution_count": 6,
   "metadata": {},
   "outputs": [
    {
     "data": {
      "image/png": "[encoded data removed]",
      "text/plain": [
       "<Figure size 500x500 with 3 Axes>"
      ]
     },
     "metadata": {},
     "output_type": "display_data"
    }
   ],
   "source": [
    "# Some visualization\n",
    "fig, axs = plt.subplots(3, 1, figsize=(5, 5))\n",
    "\n",
    "# Plot the function defined by the model\n",
    "with torch.no_grad():\n",
    "    y = model(x)\n",
    "axs[2].plot(x.numpy(), y.numpy(), label='Model output')\n",
    "\n",
    "# Add vertical lines at the crossing points\n",
    "for t in crossing_times:\n",
    "    axs[0].axvline(t, color='r', linestyle='--', linewidth=0.5)\n",
    "    axs[1].axvline(t, color='r', linestyle='--', linewidth=0.5)\n",
    "    axs[2].axvline(t, color='r', linestyle='--', linewidth=0.5)\n",
    "\n",
    "# Also plot the intermediate layer function on a separate plot\n",
    "with torch.no_grad():\n",
    "    y = torch.relu(model.fc1(x))\n",
    "axs[0].plot(x.numpy(), y.numpy())\n",
    "\n",
    "with torch.no_grad():\n",
    "    y = torch.relu(model.fc2(y))\n",
    "axs[1].plot(x.numpy(), y.numpy())\n",
    "\n",
    "axs[0].set_title('First layer activations')\n",
    "axs[1].set_title('Second layer activations')\n",
    "axs[2].set_title('Model output')\n",
    "axs[0].legend(['Crossing times'])\n",
    "plt.tight_layout()\n",
    "plt.show()"
   ]
  },
  {
   "cell_type": "markdown",
   "metadata": {},
   "source": [
    "### Test general 2D input network"
   ]
  },
  {
   "cell_type": "code",
   "execution_count": 7,
   "metadata": {},
   "outputs": [],
   "source": [
    "class FeedForwardNN(torch.nn.Module):\n",
    "    def __init__(self):\n",
    "        super(FeedForwardNN, self).__init__()\n",
    "        self.fc1 = torch.nn.Linear(2, 2)\n",
    "        self.fc2 = torch.nn.Linear(2, 1)\n",
    "        self.init_weights_random()\n",
    "\n",
    "    def init_weights(self):\n",
    "        torch.nn.init.ones_(self.fc1.weight)\n",
    "        torch.nn.init.ones_(self.fc2.weight)\n",
    "        torch.nn.init.zeros_(self.fc1.bias)\n",
    "        torch.nn.init.zeros_(self.fc2.bias)\n",
    "\n",
    "    def init_weights_random(self):\n",
    "        torch.nn.init.normal_(self.fc1.weight)\n",
    "        torch.nn.init.normal_(self.fc2.weight)\n",
    "        torch.nn.init.normal_(self.fc1.bias)\n",
    "        torch.nn.init.normal_(self.fc2.bias)\n",
    "    \n",
    "    def forward(self, x):\n",
    "        x = self.fc1(x)\n",
    "        x = torch.relu(x)\n",
    "        output = self.fc2(x)\n",
    "        return output\n",
    "    \n",
    "model = FeedForwardNN()"
   ]
  },
  {
   "cell_type": "code",
   "execution_count": 8,
   "metadata": {},
   "outputs": [
    {
     "name": "stdout",
     "output_type": "stream",
     "text": [
      "Number of regions after gradient check:  5\n",
      "Final crossing times:  [-3.42342342 -2.54254254  3.14314314  4.06406406]\n",
      "Gradients: \n",
      " [[ 25075.775]\n",
      " [ 14586.261]\n",
      " [-21734.615]\n",
      " [-32705.69 ]\n",
      " [-32700.926]]\n"
     ]
    }
   ],
   "source": [
    "def compute_crossing_times(model, t_values, direction):\n",
    "    \"\"\"\n",
    "    Compute the times where activations of neurons change.\n",
    "    \"\"\"\n",
    "    crossings = []\n",
    "    x = direction * t_values.reshape((1, -1))           # Parametrize the line\n",
    "    x = torch.tensor(x).float().transpose(0, 1)\n",
    "\n",
    "    for l,layer in enumerate(model.children()):         # Iterate over layers\n",
    "        with torch.no_grad():\n",
    "            x = layer(x)\n",
    "        activation = x > 0\n",
    "        for i in range(activation.shape[1]):            # Iterate over neurons of current layer\n",
    "            transition_indices = np.where(np.abs(np.diff(activation[:, i])) > 1/2)[0]\n",
    "            for idx in transition_indices:              # Info useful for debugging\n",
    "                crossings.append((l, i, t_values[idx]))\n",
    "        x = torch.relu(x)\n",
    "    crossing_times = [t for _,_,t in crossings]\n",
    "    crossing_times = np.unique(crossing_times, axis=0)\n",
    "    return crossing_times\n",
    "\n",
    "def compute_gradients(model, crossing_times):           # Finite difference approximation\n",
    "    \"\"\"\n",
    "    Compute the gradients of the model between each crossing times.\n",
    "    \"\"\"\n",
    "    dt = 1e-4\n",
    "    grad = []\n",
    "\n",
    "    eval_times = crossing_times - 2 * dt\n",
    "    eval_times = np.insert(eval_times,-1 , crossing_times[-1] + 2 * dt)\n",
    "    for t in eval_times:\n",
    "        t_values = np.array([t, t + dt])\n",
    "        x = direction * t_values.reshape((1, -1))\n",
    "        x = torch.tensor(x).float().view(-1,2)\n",
    "        with torch.no_grad():\n",
    "            y = model(x)\n",
    "        dy = np.diff(y.numpy().reshape(-1))\n",
    "        grad.append(dy/dt) \n",
    "    \n",
    "    grad = np.array(grad)\n",
    "    return grad\n",
    "\n",
    "direction = np.array([1,-1]).reshape((2,1))\n",
    "t_values = np.linspace(-20, 20, 1000)\n",
    "crossing_times = compute_crossing_times(model, t_values, direction)\n",
    "grad = compute_gradients(model, crossing_times)\n",
    "\n",
    "for i in range(1, len(crossing_times)+1):\n",
    "    if np.abs(grad[i-1] - grad[i]) < 1e-5:\n",
    "        crossing_times = np.delete(crossing_times, i-1)\n",
    "\n",
    "print(\"Number of regions after gradient check: \", len(crossing_times)+1)\n",
    "print(\"Final crossing times: \", crossing_times)\n",
    "print(\"Gradients: \\n\", grad)"
   ]
  },
  {
   "cell_type": "code",
   "execution_count": null,
   "metadata": {},
   "outputs": [],
   "source": [
    "# Plot the 3d function defined by the model\n",
    "\n",
    "# To visualize in browser:\n",
    "# pyton -m http.server 8000\n",
    "# http://localhost:8000/code/interactive_plot.html\n",
    "\n",
    "line = direction * t_values.reshape((1, -1))\n",
    "\n",
    "x = np.linspace(-20, 20, 100)\n",
    "y = np.linspace(-20, 20, 100)\n",
    "x, y = np.meshgrid(x, y)\n",
    "z = np.concatenate((x.reshape(-1, 1), y.reshape(-1, 1)), axis=1)\n",
    "z = torch.tensor(z).float()\n",
    "with torch.no_grad():\n",
    "    z = model(z)\n",
    "z = z.numpy().reshape(100, 100)\n",
    "data = []\n",
    "for t in crossing_times:\n",
    "    data.append(go.Scatter3d(\n",
    "        x=direction[0]*t,\n",
    "        y=direction[1]*t,\n",
    "        z=np.array(0),\n",
    "        mode='markers',\n",
    "        marker=dict(\n",
    "            size=5,\n",
    "            color='green',\n",
    "        )\n",
    "    ))\n",
    "data.append(go.Surface(\n",
    "        z=z,\n",
    "        x=x,\n",
    "        y=y,\n",
    "        colorscale=[[0, 'black'], [1, 'black']],\n",
    "        showscale=False,\n",
    "        opacity=0.8,\n",
    "        contours=dict(\n",
    "            x=dict(show=False, color=\"white\", width=2),  # Add meshlines along x\n",
    "            y=dict(show=False, color=\"white\", width=2),  # Add meshlines along y\n",
    "            z=dict(show=True, color='White', width=2, size=0.5)  # Turn off z contours if not needed\n",
    "        )\n",
    "    )\n",
    ")\n",
    "data.append(\n",
    "    go.Scatter3d(\n",
    "        x=line[0,:],\n",
    "        y=line[1,:],\n",
    "        z=0.0*np.ones(1000),\n",
    "        mode='markers',\n",
    "        marker=dict(\n",
    "            size=1,\n",
    "            color='red',\n",
    "        )\n",
    "    )\n",
    ")\n",
    "fig = go.Figure(data=data)\n",
    "    \n",
    "fig.update_layout(title='Interactive 3D Plot')\n",
    "fig.show()\n",
    "#fig.write_html(\"./Plots/Surface+line.html\")"
   ]
  }
 ],
 "metadata": {
  "kernelspec": {
   "display_name": "base",
   "language": "python",
   "name": "python3"
  },
  "language_info": {
   "codemirror_mode": {
    "name": "ipython",
    "version": 3
   },
   "file_extension": ".py",
   "mimetype": "text/x-python",
   "name": "python",
   "nbconvert_exporter": "python",
   "pygments_lexer": "ipython3",
   "version": "3.11.5"
  }
 },
 "nbformat": 4,
 "nbformat_minor": 2
}
