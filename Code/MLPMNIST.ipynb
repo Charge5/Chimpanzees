{
 "cells": [
  {
   "cell_type": "markdown",
   "metadata": {
    "id": "6VHSK-stz3g-"
   },
   "source": [
    "# MNIST Classification using Multilayer Perceptron\n",
    "\n",
    "&copy; Jonathan Kristanto - April 2021"
   ]
  },
  {
   "cell_type": "markdown",
   "metadata": {
    "id": "5i_DpQjY0CEV"
   },
   "source": [
    "One of your assignments is to implement a backpropagation algorithm on a **simple MLP architecture**. Now, based on that simple BPNN architecture, develop a new model of BPNN capable of tackling a general digit recognition task. Once again, please employ digit datasets taken from sklearn import datasets and split into training (80%) and validation (20%) datasets. Since the size of the sample image is 8 x 8 pixels, so the\n",
    "architecture of your new BPNN model has to be adjusted accordingly. Your python notebook must include the computation of \n",
    "\n",
    "(A) **training accuracy and validation accuracy curves**, and \n",
    "\n",
    "(B) **performance analysis of the model based on the associated confusion matrix**"
   ]
  },
  {
   "cell_type": "markdown",
   "metadata": {
    "id": "zhhetM0bP9oV"
   },
   "source": [
    "## Import Libraries"
   ]
  },
  {
   "cell_type": "code",
   "execution_count": 2,
   "metadata": {
    "execution": {
     "iopub.execute_input": "2024-11-26T14:47:29.673590Z",
     "iopub.status.busy": "2024-11-26T14:47:29.673200Z",
     "iopub.status.idle": "2024-11-26T14:47:30.928759Z",
     "shell.execute_reply": "2024-11-26T14:47:30.928083Z",
     "shell.execute_reply.started": "2024-11-26T14:47:29.673497Z"
    },
    "id": "CAyb_Z2b1T5l",
    "trusted": true
   },
   "outputs": [],
   "source": [
    "import numpy as np\n",
    "import matplotlib\n",
    "import matplotlib.pyplot as plt\n",
    "from sklearn import datasets\n",
    "from sklearn.model_selection import train_test_split, validation_curve\n",
    "from sklearn.neural_network import MLPClassifier\n",
    "#from sklearn.metrics import plot_confusion_matrix"
   ]
  },
  {
   "cell_type": "markdown",
   "metadata": {
    "id": "-OYdxrjcP44L"
   },
   "source": [
    "## Import Dataset"
   ]
  },
  {
   "cell_type": "code",
   "execution_count": 3,
   "metadata": {
    "execution": {
     "iopub.execute_input": "2024-11-26T14:47:37.819504Z",
     "iopub.status.busy": "2024-11-26T14:47:37.816250Z",
     "iopub.status.idle": "2024-11-26T14:47:37.915289Z",
     "shell.execute_reply": "2024-11-26T14:47:37.914441Z",
     "shell.execute_reply.started": "2024-11-26T14:47:37.819437Z"
    },
    "id": "gUahnHkezvOa",
    "trusted": true
   },
   "outputs": [],
   "source": [
    "from sklearn import datasets\n",
    "digits = datasets.load_digits()"
   ]
  },
  {
   "cell_type": "code",
   "execution_count": 4,
   "metadata": {
    "execution": {
     "iopub.execute_input": "2024-11-26T14:47:39.599523Z",
     "iopub.status.busy": "2024-11-26T14:47:39.599185Z",
     "iopub.status.idle": "2024-11-26T14:47:39.608109Z",
     "shell.execute_reply": "2024-11-26T14:47:39.607304Z",
     "shell.execute_reply.started": "2024-11-26T14:47:39.599490Z"
    },
    "id": "DF3TlGra0-QZ",
    "trusted": true
   },
   "outputs": [],
   "source": [
    "X = digits['images']\n",
    "y = digits['target']\n",
    "target_names = digits['target_names']"
   ]
  },
  {
   "cell_type": "code",
   "execution_count": 5,
   "metadata": {
    "execution": {
     "iopub.execute_input": "2024-11-26T14:47:45.431202Z",
     "iopub.status.busy": "2024-11-26T14:47:45.430925Z",
     "iopub.status.idle": "2024-11-26T14:47:45.441230Z",
     "shell.execute_reply": "2024-11-26T14:47:45.440439Z",
     "shell.execute_reply.started": "2024-11-26T14:47:45.431175Z"
    },
    "id": "oh5Ep9TweQOB",
    "outputId": "ac4148d9-65dc-4a33-b659-4b06459423eb",
    "trusted": true
   },
   "outputs": [
    {
     "name": "stdout",
     "output_type": "stream",
     "text": [
      "Images (x) Shape : (1797, 8, 8)\n",
      "Target (y) Shape : (1797,)\n"
     ]
    }
   ],
   "source": [
    "print(f'Images (x) Shape : {X.shape}')\n",
    "print(f'Target (y) Shape : {y.shape}')"
   ]
  },
  {
   "cell_type": "code",
   "execution_count": 6,
   "metadata": {
    "execution": {
     "iopub.execute_input": "2024-11-26T14:47:48.322028Z",
     "iopub.status.busy": "2024-11-26T14:47:48.321742Z",
     "iopub.status.idle": "2024-11-26T14:47:49.738138Z",
     "shell.execute_reply": "2024-11-26T14:47:49.737404Z",
     "shell.execute_reply.started": "2024-11-26T14:47:48.321999Z"
    },
    "id": "kszQWKhud4oG",
    "outputId": "cbd9403e-66c7-4851-b9de-1b6795e3bf0a",
    "trusted": true
   },
   "outputs": [
    {
     "data": {
      "image/png": "[encoded data removed]",
      "text/plain": [
       "<Figure size 600x600 with 30 Axes>"
      ]
     },
     "metadata": {},
     "output_type": "display_data"
    }
   ],
   "source": [
    "# Display sample data\n",
    "fig = plt.figure(figsize=(6, 6))  # figure size in inches\n",
    "fig.subplots_adjust(left=0, right=1, bottom=0, top=1, hspace=0.05, wspace=0.05)\n",
    "\n",
    "for i in range(30):\n",
    "    ax = fig.add_subplot(5, 6, i + 1, xticks=[], yticks=[])\n",
    "    ax.imshow(X[i], cmap=plt.cm.binary, interpolation='nearest')\n",
    "    # label the image with the target value\n",
    "    ax.text(0, 7, str(y[i]))"
   ]
  },
  {
   "cell_type": "markdown",
   "metadata": {
    "id": "5iQ5abtuQGdV"
   },
   "source": [
    "## Preprocess"
   ]
  },
  {
   "cell_type": "code",
   "execution_count": 7,
   "metadata": {
    "execution": {
     "iopub.execute_input": "2024-11-26T14:47:59.547819Z",
     "iopub.status.busy": "2024-11-26T14:47:59.546170Z",
     "iopub.status.idle": "2024-11-26T14:47:59.558047Z",
     "shell.execute_reply": "2024-11-26T14:47:59.557211Z",
     "shell.execute_reply.started": "2024-11-26T14:47:59.547775Z"
    },
    "id": "QPLWgr1PW-gM",
    "outputId": "8aa6e4ef-34a7-4aff-c5a5-2168ae462ce4",
    "trusted": true
   },
   "outputs": [
    {
     "name": "stdout",
     "output_type": "stream",
     "text": [
      "After reshape = (1797, 64)\n"
     ]
    }
   ],
   "source": [
    "n_samples = len(X)\n",
    "X = X.reshape((n_samples, -1))\n",
    "print(f\"After reshape = {X.shape}\")"
   ]
  },
  {
   "cell_type": "markdown",
   "metadata": {
    "id": "PK9xUwNJajNh"
   },
   "source": [
    "Split dataset"
   ]
  },
  {
   "cell_type": "code",
   "execution_count": 8,
   "metadata": {
    "execution": {
     "iopub.execute_input": "2024-11-26T14:48:36.488936Z",
     "iopub.status.busy": "2024-11-26T14:48:36.488506Z",
     "iopub.status.idle": "2024-11-26T14:48:36.508693Z",
     "shell.execute_reply": "2024-11-26T14:48:36.507350Z",
     "shell.execute_reply.started": "2024-11-26T14:48:36.488891Z"
    },
    "id": "qC7-hzF7QS74",
    "outputId": "ce64dab4-15db-43eb-89fb-703c46cc0b64",
    "trusted": true
   },
   "outputs": [
    {
     "name": "stdout",
     "output_type": "stream",
     "text": [
      "(1437, 64)\n",
      "(360, 64)\n"
     ]
    }
   ],
   "source": [
    "X_train, X_test, y_train, y_test = train_test_split(X, y, test_size=0.2, random_state=32)\n",
    "print(X_train.shape)\n",
    "print(X_test.shape)"
   ]
  },
  {
   "cell_type": "markdown",
   "metadata": {
    "id": "DOgtPhVLQC9w"
   },
   "source": [
    "## Train model"
   ]
  },
  {
   "cell_type": "code",
   "execution_count": 9,
   "metadata": {
    "execution": {
     "iopub.execute_input": "2024-11-26T14:49:23.095013Z",
     "iopub.status.busy": "2024-11-26T14:49:23.094720Z",
     "iopub.status.idle": "2024-11-26T14:49:23.102635Z",
     "shell.execute_reply": "2024-11-26T14:49:23.101918Z",
     "shell.execute_reply.started": "2024-11-26T14:49:23.094984Z"
    },
    "id": "udGfa2DOWrwN",
    "trusted": true
   },
   "outputs": [],
   "source": [
    "from sklearn.model_selection import ShuffleSplit\n",
    "cv = ShuffleSplit(n_splits=5, test_size=0.2, random_state=0)"
   ]
  },
  {
   "cell_type": "code",
   "execution_count": 11,
   "metadata": {
    "execution": {
     "iopub.execute_input": "2024-11-26T14:55:58.944844Z",
     "iopub.status.busy": "2024-11-26T14:55:58.944229Z",
     "iopub.status.idle": "2024-11-26T14:56:00.566425Z",
     "shell.execute_reply": "2024-11-26T14:56:00.565515Z",
     "shell.execute_reply.started": "2024-11-26T14:55:58.944800Z"
    },
    "id": "drC0ooYagdNC",
    "outputId": "b1f38f5e-34e3-49c8-9586-b6c6ea3e9e50",
    "trusted": true
   },
   "outputs": [
    {
     "name": "stdout",
     "output_type": "stream",
     "text": [
      "Iteration 1, loss = 4.60589716\n",
      "Iteration 2, loss = 1.79344473\n",
      "Iteration 3, loss = 0.89506183\n",
      "Iteration 4, loss = 0.50192552\n",
      "Iteration 5, loss = 0.33797389\n",
      "Iteration 6, loss = 0.23896081\n",
      "Iteration 7, loss = 0.18839401\n",
      "Iteration 8, loss = 0.15484936\n",
      "Iteration 9, loss = 0.12764973\n",
      "Iteration 10, loss = 0.11071509\n",
      "Iteration 11, loss = 0.09489228\n",
      "Iteration 12, loss = 0.08577913\n",
      "Iteration 13, loss = 0.07329100\n",
      "Iteration 14, loss = 0.06590161\n",
      "Iteration 15, loss = 0.05828686\n",
      "Iteration 16, loss = 0.05440548\n",
      "Iteration 17, loss = 0.04877336\n",
      "Iteration 18, loss = 0.04433683\n",
      "Iteration 19, loss = 0.03914719\n",
      "Iteration 20, loss = 0.03672769\n",
      "Iteration 21, loss = 0.03299312\n",
      "Iteration 22, loss = 0.03025905\n",
      "Iteration 23, loss = 0.02825537\n",
      "Iteration 24, loss = 0.02513223\n",
      "Iteration 25, loss = 0.02249061\n",
      "Iteration 26, loss = 0.02084056\n",
      "Iteration 27, loss = 0.01945791\n",
      "Iteration 28, loss = 0.01795208\n",
      "Iteration 29, loss = 0.01698005\n",
      "Iteration 30, loss = 0.01533713\n",
      "Iteration 31, loss = 0.01435437\n",
      "Iteration 32, loss = 0.01356239\n",
      "Iteration 33, loss = 0.01256907\n",
      "Iteration 34, loss = 0.01173891\n",
      "Iteration 35, loss = 0.01176617\n",
      "Iteration 36, loss = 0.01047338\n",
      "Iteration 37, loss = 0.00978587\n",
      "Iteration 38, loss = 0.00932794\n",
      "Iteration 39, loss = 0.00865054\n",
      "Iteration 40, loss = 0.00825098\n",
      "Iteration 41, loss = 0.00778824\n",
      "Iteration 42, loss = 0.00735997\n",
      "Iteration 43, loss = 0.00692784\n",
      "Iteration 44, loss = 0.00659036\n",
      "Iteration 45, loss = 0.00630723\n",
      "Iteration 46, loss = 0.00604457\n",
      "Iteration 47, loss = 0.00573948\n",
      "Iteration 48, loss = 0.00551988\n",
      "Iteration 49, loss = 0.00538463\n",
      "Iteration 50, loss = 0.00506589\n",
      "Iteration 51, loss = 0.00485940\n",
      "Iteration 52, loss = 0.00461315\n",
      "Iteration 53, loss = 0.00443556\n",
      "Iteration 54, loss = 0.00424809\n",
      "Iteration 55, loss = 0.00408942\n",
      "Iteration 56, loss = 0.00399838\n",
      "Iteration 57, loss = 0.00382162\n",
      "Iteration 58, loss = 0.00366378\n",
      "Iteration 59, loss = 0.00351412\n",
      "Iteration 60, loss = 0.00341813\n",
      "Iteration 61, loss = 0.00327109\n",
      "Iteration 62, loss = 0.00315021\n",
      "Iteration 63, loss = 0.00304645\n",
      "Iteration 64, loss = 0.00296961\n",
      "Iteration 65, loss = 0.00298453\n",
      "Iteration 66, loss = 0.00284042\n",
      "Iteration 67, loss = 0.00276325\n",
      "Iteration 68, loss = 0.00258450\n",
      "Iteration 69, loss = 0.00250557\n",
      "Iteration 70, loss = 0.00239950\n",
      "Iteration 71, loss = 0.00231254\n",
      "Iteration 72, loss = 0.00227210\n",
      "Iteration 73, loss = 0.00219517\n",
      "Iteration 74, loss = 0.00210264\n",
      "Iteration 75, loss = 0.00204967\n",
      "Iteration 76, loss = 0.00198526\n",
      "Iteration 77, loss = 0.00192465\n",
      "Iteration 78, loss = 0.00188259\n",
      "Iteration 79, loss = 0.00182621\n",
      "Iteration 80, loss = 0.00178335\n",
      "Iteration 81, loss = 0.00172921\n",
      "Training loss did not improve more than tol=0.000100 for 10 consecutive epochs. Stopping.\n",
      "Train Accuracy = 1.0\n",
      "Test Accuracy = 0.9888888888888889\n"
     ]
    }
   ],
   "source": [
    "#clf = MLPClassifier(hidden_layer_sizes=(32, 16), activation = 'identity', solver='sgd', alpha=0.2, batch_size=32)\n",
    "clf = MLPClassifier(\n",
    "    hidden_layer_sizes=[100, 100],\n",
    "    alpha=0.0,\n",
    "    learning_rate='constant',\n",
    "    learning_rate_init=0.001,\n",
    "    verbose=True,\n",
    "    momentum=1.0\n",
    ")\n",
    "clf.fit(X_train, y_train)\n",
    "print(f'Train Accuracy = {clf.score(X_train, y_train)}')\n",
    "print(f'Test Accuracy = {clf.score(X_test, y_test)}')"
   ]
  },
  {
   "cell_type": "markdown",
   "metadata": {
    "id": "OoZw3E6thZCz"
   },
   "source": [
    "### Model Summary"
   ]
  },
  {
   "cell_type": "code",
   "execution_count": null,
   "metadata": {
    "execution": {
     "iopub.execute_input": "2021-11-24T13:58:37.085907Z",
     "iopub.status.busy": "2021-11-24T13:58:37.082745Z",
     "iopub.status.idle": "2021-11-24T13:58:37.121754Z",
     "shell.execute_reply": "2021-11-24T13:58:37.120725Z",
     "shell.execute_reply.started": "2021-11-24T13:58:37.083389Z"
    },
    "id": "ONoeIKFggy-4",
    "trusted": true
   },
   "outputs": [],
   "source": [
    "print(\"Weights\\n\", clf.coefs_)"
   ]
  },
  {
   "cell_type": "code",
   "execution_count": null,
   "metadata": {
    "execution": {
     "iopub.execute_input": "2021-11-24T13:58:37.131183Z",
     "iopub.status.busy": "2021-11-24T13:58:37.123565Z",
     "iopub.status.idle": "2021-11-24T13:58:37.1452Z",
     "shell.execute_reply": "2021-11-24T13:58:37.143955Z",
     "shell.execute_reply.started": "2021-11-24T13:58:37.131101Z"
    },
    "id": "8VEBMQMvhPzX",
    "outputId": "2bbcc320-e5b8-4bec-e9b0-dc82f2289f8c",
    "trusted": true
   },
   "outputs": [],
   "source": [
    "print(\"Total Iteration done : \", clf.n_iter_)\n",
    "print(\"Number of layer : \", clf.n_layers_)\n",
    "print(\"Number of output : \", clf.n_outputs_)"
   ]
  },
  {
   "cell_type": "markdown",
   "metadata": {
    "id": "e4zJc9Rk0FZr"
   },
   "source": [
    "## A. Training accuracy and validation accuracy curves"
   ]
  },
  {
   "cell_type": "markdown",
   "metadata": {
    "id": "Erj-0PJTSa1i"
   },
   "source": [
    "#### Function to plot training & validation accuracy curves"
   ]
  },
  {
   "cell_type": "code",
   "execution_count": null,
   "metadata": {
    "execution": {
     "iopub.execute_input": "2021-11-24T13:58:37.153158Z",
     "iopub.status.busy": "2021-11-24T13:58:37.148787Z",
     "iopub.status.idle": "2021-11-24T13:58:37.180008Z",
     "shell.execute_reply": "2021-11-24T13:58:37.17894Z",
     "shell.execute_reply.started": "2021-11-24T13:58:37.153088Z"
    },
    "id": "NlHsUry7O7Ih",
    "trusted": true
   },
   "outputs": [],
   "source": [
    "import numpy as np\n",
    "import matplotlib.pyplot as plt\n",
    "from sklearn.model_selection import learning_curve\n",
    "from sklearn.model_selection import ShuffleSplit\n",
    "\n",
    "def plot_learning_curve(estimator, title, X, y, axes=None, ylim=None, cv=None,\n",
    "                        n_jobs=None, train_sizes=np.linspace(.1, 1.0, 5)):\n",
    "    if axes is None:\n",
    "        _, axes = plt.subplots(1, 1, figsize=(8, 5))\n",
    "\n",
    "    axes.set_title(title)\n",
    "    if ylim is not None:\n",
    "        axes.set_ylim(*ylim)\n",
    "    axes.set_xlabel(\"Training examples\")\n",
    "    axes.set_ylabel(\"Score\")\n",
    "\n",
    "    train_sizes, train_scores, test_scores, fit_times, _ = \\\n",
    "        learning_curve(estimator, X, y, cv=cv, n_jobs=n_jobs,\n",
    "                       train_sizes=train_sizes,\n",
    "                       return_times=True)\n",
    "    train_scores_mean = np.mean(train_scores, axis=1)\n",
    "    train_scores_std = np.std(train_scores, axis=1)\n",
    "    test_scores_mean = np.mean(test_scores, axis=1)\n",
    "    test_scores_std = np.std(test_scores, axis=1)\n",
    "    fit_times_mean = np.mean(fit_times, axis=1)\n",
    "    fit_times_std = np.std(fit_times, axis=1)\n",
    "\n",
    "    # Plot learning curve\n",
    "    axes.grid()\n",
    "    axes.fill_between(train_sizes, train_scores_mean - train_scores_std,\n",
    "                         train_scores_mean + train_scores_std, alpha=0.1,\n",
    "                         color=\"r\")\n",
    "    axes.fill_between(train_sizes, test_scores_mean - test_scores_std,\n",
    "                         test_scores_mean + test_scores_std, alpha=0.1,\n",
    "                         color=\"g\")\n",
    "    axes.plot(train_sizes, train_scores_mean, 'o-', color=\"r\",\n",
    "                 label=\"Training score\")\n",
    "    axes.plot(train_sizes, test_scores_mean, 'o-', color=\"g\",\n",
    "                 label=\"Cross-validation score\")\n",
    "    axes.legend(loc=\"best\")\n",
    "\n",
    "    return plt"
   ]
  },
  {
   "cell_type": "markdown",
   "metadata": {
    "id": "teS-ATA-Srwl"
   },
   "source": [
    "### Generate Training accuracy & Validation accuracy curves"
   ]
  },
  {
   "cell_type": "code",
   "execution_count": null,
   "metadata": {
    "execution": {
     "iopub.execute_input": "2021-11-24T13:58:37.189807Z",
     "iopub.status.busy": "2021-11-24T13:58:37.18673Z",
     "iopub.status.idle": "2021-11-24T13:58:49.509634Z",
     "shell.execute_reply": "2021-11-24T13:58:49.508591Z",
     "shell.execute_reply.started": "2021-11-24T13:58:37.189749Z"
    },
    "id": "i7quX2bUSYWn",
    "outputId": "b7234d1a-5afc-4663-8ad8-02cc44142774",
    "trusted": true
   },
   "outputs": [],
   "source": [
    "title = \"Learning Curves (Multiple Layer Perceptron)\"\n",
    "\n",
    "# Cross validation with 5 iterations each time with 20% data \n",
    "# randomly selected as a validation set.\n",
    "cv = ShuffleSplit(n_splits=5, test_size=0.2, random_state=0)\n",
    "\n",
    "estimator = MLPClassifier()\n",
    "plot_learning_curve(estimator, title, X, y, ylim=(0.7, 1.01),\n",
    "                    cv=cv, n_jobs=-1)\n",
    "\n",
    "plt.show()"
   ]
  },
  {
   "cell_type": "markdown",
   "metadata": {
    "id": "K7TlHfDi0JZf"
   },
   "source": [
    "## B. Performance analysis of the model based on the associated confusion matrix"
   ]
  },
  {
   "cell_type": "code",
   "execution_count": null,
   "metadata": {
    "execution": {
     "iopub.execute_input": "2021-11-24T13:58:49.511302Z",
     "iopub.status.busy": "2021-11-24T13:58:49.511057Z",
     "iopub.status.idle": "2021-11-24T13:58:50.325465Z",
     "shell.execute_reply": "2021-11-24T13:58:50.32463Z",
     "shell.execute_reply.started": "2021-11-24T13:58:49.511272Z"
    },
    "id": "OFfPNH4oUgpV",
    "outputId": "35bed0d7-e61a-4fee-c9fc-6bacedd181ed",
    "trusted": true
   },
   "outputs": [],
   "source": [
    "fig = plot_confusion_matrix(clf, X_test, y_test, labels=target_names)\n",
    "fig.figure_.suptitle(\"Confusion Matrix for Digit Handwritten Detection\")\n",
    "plt.show()"
   ]
  },
  {
   "cell_type": "markdown",
   "metadata": {
    "id": "mXWXQHpHXh9o"
   },
   "source": [
    "#### Extra metrics : Loss Curve"
   ]
  },
  {
   "cell_type": "code",
   "execution_count": null,
   "metadata": {
    "execution": {
     "iopub.execute_input": "2021-11-24T13:58:50.326778Z",
     "iopub.status.busy": "2021-11-24T13:58:50.326545Z",
     "iopub.status.idle": "2021-11-24T13:58:50.5532Z",
     "shell.execute_reply": "2021-11-24T13:58:50.552268Z",
     "shell.execute_reply.started": "2021-11-24T13:58:50.32675Z"
    },
    "id": "xdmUV8HETQM_",
    "outputId": "2f79e10e-5315-4974-d9f0-ecaae80ef0c6",
    "trusted": true
   },
   "outputs": [],
   "source": [
    "plt.plot(clf.loss_curve_)"
   ]
  },
  {
   "cell_type": "markdown",
   "metadata": {
    "id": "RecdFhzGSfHJ"
   },
   "source": [
    "### Reference\n",
    "\n",
    "Training & Validation accuracy curve plotting : \n",
    "\n",
    "https://scikit-learn.org/stable/auto_examples/model_selection/plot_learning_curve.html"
   ]
  }
 ],
 "metadata": {
  "kaggle": {
   "accelerator": "none",
   "dataSources": [],
   "dockerImageVersionId": 30145,
   "isGpuEnabled": false,
   "isInternetEnabled": false,
   "language": "python",
   "sourceType": "notebook"
  },
  "kernelspec": {
   "display_name": "base",
   "language": "python",
   "name": "python3"
  },
  "language_info": {
   "codemirror_mode": {
    "name": "ipython",
    "version": 3
   },
   "file_extension": ".py",
   "mimetype": "text/x-python",
   "name": "python",
   "nbconvert_exporter": "python",
   "pygments_lexer": "ipython3",
   "version": "3.11.5"
  }
 },
 "nbformat": 4,
 "nbformat_minor": 4
}
