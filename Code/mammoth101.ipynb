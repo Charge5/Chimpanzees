{
  "nbformat": 4,
  "nbformat_minor": 0,
  "metadata": {
    "colab": {
      "provenance": []
    },
    "kernelspec": {
      "name": "python3",
      "display_name": "Python 3"
    },
    "language_info": {
      "name": "python"
    }
  },
  "cells": [
    {
      "cell_type": "code",
      "execution_count": 1,
      "metadata": {
        "colab": {
          "base_uri": "https://localhost:8080/"
        },
        "collapsed": true,
        "id": "FrpIkutfitGW",
        "outputId": "f33060d6-f487-45d1-925f-760a25af5afe"
      },
      "outputs": [
        {
          "output_type": "stream",
          "name": "stdout",
          "text": [
            "/content\n",
            "Cloning into 'mammoth'...\n",
            "remote: Enumerating objects: 4420, done.\u001b[K\n",
            "remote: Counting objects: 100% (2169/2169), done.\u001b[K\n",
            "remote: Compressing objects: 100% (567/567), done.\u001b[K\n",
            "remote: Total 4420 (delta 1697), reused 1822 (delta 1567), pack-reused 2251 (from 1)\u001b[K\n",
            "Receiving objects: 100% (4420/4420), 10.99 MiB | 11.22 MiB/s, done.\n",
            "Resolving deltas: 100% (3162/3162), done.\n",
            "/content/mammoth\n",
            "Requirement already satisfied: torch>=2.1.0 in /usr/local/lib/python3.10/dist-packages (from -r requirements.txt (line 1)) (2.5.1+cu121)\n",
            "Requirement already satisfied: numpy in /usr/local/lib/python3.10/dist-packages (from -r requirements.txt (line 2)) (1.26.4)\n",
            "Requirement already satisfied: torchvision in /usr/local/lib/python3.10/dist-packages (from -r requirements.txt (line 3)) (0.20.1+cu121)\n",
            "Requirement already satisfied: kornia>=0.7.0 in /usr/local/lib/python3.10/dist-packages (from -r requirements.txt (line 4)) (0.7.4)\n",
            "Requirement already satisfied: Pillow in /usr/local/lib/python3.10/dist-packages (from -r requirements.txt (line 5)) (11.0.0)\n",
            "Requirement already satisfied: timm==0.9.8 in /usr/local/lib/python3.10/dist-packages (from -r requirements.txt (line 6)) (0.9.8)\n",
            "Requirement already satisfied: tqdm in /usr/local/lib/python3.10/dist-packages (from -r requirements.txt (line 7)) (4.66.6)\n",
            "Requirement already satisfied: onedrivedownloader in /usr/local/lib/python3.10/dist-packages (from -r requirements.txt (line 8)) (1.1.3)\n",
            "Requirement already satisfied: ftfy in /usr/local/lib/python3.10/dist-packages (from -r requirements.txt (line 9)) (6.3.1)\n",
            "Requirement already satisfied: regex in /usr/local/lib/python3.10/dist-packages (from -r requirements.txt (line 10)) (2024.9.11)\n",
            "Requirement already satisfied: pyyaml in /usr/local/lib/python3.10/dist-packages (from -r requirements.txt (line 11)) (6.0.2)\n",
            "Requirement already satisfied: huggingface-hub in /usr/local/lib/python3.10/dist-packages (from timm==0.9.8->-r requirements.txt (line 6)) (0.26.2)\n",
            "Requirement already satisfied: safetensors in /usr/local/lib/python3.10/dist-packages (from timm==0.9.8->-r requirements.txt (line 6)) (0.4.5)\n",
            "Requirement already satisfied: filelock in /usr/local/lib/python3.10/dist-packages (from torch>=2.1.0->-r requirements.txt (line 1)) (3.16.1)\n",
            "Requirement already satisfied: typing-extensions>=4.8.0 in /usr/local/lib/python3.10/dist-packages (from torch>=2.1.0->-r requirements.txt (line 1)) (4.12.2)\n",
            "Requirement already satisfied: networkx in /usr/local/lib/python3.10/dist-packages (from torch>=2.1.0->-r requirements.txt (line 1)) (3.4.2)\n",
            "Requirement already satisfied: jinja2 in /usr/local/lib/python3.10/dist-packages (from torch>=2.1.0->-r requirements.txt (line 1)) (3.1.4)\n",
            "Requirement already satisfied: fsspec in /usr/local/lib/python3.10/dist-packages (from torch>=2.1.0->-r requirements.txt (line 1)) (2024.10.0)\n",
            "Requirement already satisfied: sympy==1.13.1 in /usr/local/lib/python3.10/dist-packages (from torch>=2.1.0->-r requirements.txt (line 1)) (1.13.1)\n",
            "Requirement already satisfied: mpmath<1.4,>=1.1.0 in /usr/local/lib/python3.10/dist-packages (from sympy==1.13.1->torch>=2.1.0->-r requirements.txt (line 1)) (1.3.0)\n",
            "Requirement already satisfied: kornia-rs>=0.1.0 in /usr/local/lib/python3.10/dist-packages (from kornia>=0.7.0->-r requirements.txt (line 4)) (0.1.7)\n",
            "Requirement already satisfied: packaging in /usr/local/lib/python3.10/dist-packages (from kornia>=0.7.0->-r requirements.txt (line 4)) (24.2)\n",
            "Requirement already satisfied: requests in /usr/local/lib/python3.10/dist-packages (from onedrivedownloader->-r requirements.txt (line 8)) (2.32.3)\n",
            "Requirement already satisfied: wcwidth in /usr/local/lib/python3.10/dist-packages (from ftfy->-r requirements.txt (line 9)) (0.2.13)\n",
            "Requirement already satisfied: MarkupSafe>=2.0 in /usr/local/lib/python3.10/dist-packages (from jinja2->torch>=2.1.0->-r requirements.txt (line 1)) (3.0.2)\n",
            "Requirement already satisfied: charset-normalizer<4,>=2 in /usr/local/lib/python3.10/dist-packages (from requests->onedrivedownloader->-r requirements.txt (line 8)) (3.4.0)\n",
            "Requirement already satisfied: idna<4,>=2.5 in /usr/local/lib/python3.10/dist-packages (from requests->onedrivedownloader->-r requirements.txt (line 8)) (3.10)\n",
            "Requirement already satisfied: urllib3<3,>=1.21.1 in /usr/local/lib/python3.10/dist-packages (from requests->onedrivedownloader->-r requirements.txt (line 8)) (2.2.3)\n",
            "Requirement already satisfied: certifi>=2017.4.17 in /usr/local/lib/python3.10/dist-packages (from requests->onedrivedownloader->-r requirements.txt (line 8)) (2024.8.30)\n",
            "Collecting clip@ git+https://github.com/openai/CLIP.git (from -r requirements-optional.txt (line 10))\n",
            "  Cloning https://github.com/openai/CLIP.git to /tmp/pip-install-1pbkoced/clip_e1345f7dc7d14b0cbae7809ef6e3b248\n",
            "  Running command git clone --filter=blob:none --quiet https://github.com/openai/CLIP.git /tmp/pip-install-1pbkoced/clip_e1345f7dc7d14b0cbae7809ef6e3b248\n",
            "  Resolved https://github.com/openai/CLIP.git to commit dcba3cb2e2827b402d2701e7e1c7d9fed8a20ef1\n",
            "  Preparing metadata (setup.py) ... \u001b[?25l\u001b[?25hdone\n",
            "Requirement already satisfied: googledrivedownloader==0.4 in /usr/local/lib/python3.10/dist-packages (from -r requirements-optional.txt (line 1)) (0.4)\n",
            "Requirement already satisfied: onedrivedownloader==1.1.3 in /usr/local/lib/python3.10/dist-packages (from -r requirements-optional.txt (line 2)) (1.1.3)\n",
            "Requirement already satisfied: pytest==7.4.2 in /usr/local/lib/python3.10/dist-packages (from -r requirements-optional.txt (line 3)) (7.4.2)\n",
            "Requirement already satisfied: quadprog==0.1.11 in /usr/local/lib/python3.10/dist-packages (from -r requirements-optional.txt (line 4)) (0.1.11)\n",
            "Requirement already satisfied: setproctitle==1.3.2 in /usr/local/lib/python3.10/dist-packages (from -r requirements-optional.txt (line 5)) (1.3.2)\n",
            "Requirement already satisfied: wandb in /usr/local/lib/python3.10/dist-packages (from -r requirements-optional.txt (line 6)) (0.18.7)\n",
            "Requirement already satisfied: deeplake in /usr/local/lib/python3.10/dist-packages (from -r requirements-optional.txt (line 7)) (4.0.3)\n",
            "Requirement already satisfied: pandas in /usr/local/lib/python3.10/dist-packages (from -r requirements-optional.txt (line 8)) (2.2.2)\n",
            "Requirement already satisfied: timm==0.9.8 in /usr/local/lib/python3.10/dist-packages (from -r requirements-optional.txt (line 9)) (0.9.8)\n",
            "Requirement already satisfied: scikit-learn in /usr/local/lib/python3.10/dist-packages (from -r requirements-optional.txt (line 11)) (1.5.2)\n",
            "Requirement already satisfied: decorator in /usr/local/lib/python3.10/dist-packages (from -r requirements-optional.txt (line 12)) (4.4.2)\n",
            "Requirement already satisfied: accelerate in /usr/local/lib/python3.10/dist-packages (from -r requirements-optional.txt (line 13)) (1.1.1)\n",
            "Requirement already satisfied: transformers in /usr/local/lib/python3.10/dist-packages (from -r requirements-optional.txt (line 14)) (4.46.2)\n",
            "Requirement already satisfied: bitsandbytes in /usr/local/lib/python3.10/dist-packages (from -r requirements-optional.txt (line 16)) (0.44.1)\n",
            "Requirement already satisfied: requests in /usr/local/lib/python3.10/dist-packages (from onedrivedownloader==1.1.3->-r requirements-optional.txt (line 2)) (2.32.3)\n",
            "Requirement already satisfied: tqdm in /usr/local/lib/python3.10/dist-packages (from onedrivedownloader==1.1.3->-r requirements-optional.txt (line 2)) (4.66.6)\n",
            "Requirement already satisfied: iniconfig in /usr/local/lib/python3.10/dist-packages (from pytest==7.4.2->-r requirements-optional.txt (line 3)) (2.0.0)\n",
            "Requirement already satisfied: packaging in /usr/local/lib/python3.10/dist-packages (from pytest==7.4.2->-r requirements-optional.txt (line 3)) (24.2)\n",
            "Requirement already satisfied: pluggy<2.0,>=0.12 in /usr/local/lib/python3.10/dist-packages (from pytest==7.4.2->-r requirements-optional.txt (line 3)) (1.5.0)\n",
            "Requirement already satisfied: exceptiongroup>=1.0.0rc8 in /usr/local/lib/python3.10/dist-packages (from pytest==7.4.2->-r requirements-optional.txt (line 3)) (1.2.2)\n",
            "Requirement already satisfied: tomli>=1.0.0 in /usr/local/lib/python3.10/dist-packages (from pytest==7.4.2->-r requirements-optional.txt (line 3)) (2.1.0)\n",
            "Requirement already satisfied: numpy in /usr/local/lib/python3.10/dist-packages (from quadprog==0.1.11->-r requirements-optional.txt (line 4)) (1.26.4)\n",
            "Requirement already satisfied: torch>=1.7 in /usr/local/lib/python3.10/dist-packages (from timm==0.9.8->-r requirements-optional.txt (line 9)) (2.5.1+cu121)\n",
            "Requirement already satisfied: torchvision in /usr/local/lib/python3.10/dist-packages (from timm==0.9.8->-r requirements-optional.txt (line 9)) (0.20.1+cu121)\n",
            "Requirement already satisfied: pyyaml in /usr/local/lib/python3.10/dist-packages (from timm==0.9.8->-r requirements-optional.txt (line 9)) (6.0.2)\n",
            "Requirement already satisfied: huggingface-hub in /usr/local/lib/python3.10/dist-packages (from timm==0.9.8->-r requirements-optional.txt (line 9)) (0.26.2)\n",
            "Requirement already satisfied: safetensors in /usr/local/lib/python3.10/dist-packages (from timm==0.9.8->-r requirements-optional.txt (line 9)) (0.4.5)\n",
            "Requirement already satisfied: click!=8.0.0,>=7.1 in /usr/local/lib/python3.10/dist-packages (from wandb->-r requirements-optional.txt (line 6)) (8.1.7)\n",
            "Requirement already satisfied: docker-pycreds>=0.4.0 in /usr/local/lib/python3.10/dist-packages (from wandb->-r requirements-optional.txt (line 6)) (0.4.0)\n",
            "Requirement already satisfied: gitpython!=3.1.29,>=1.0.0 in /usr/local/lib/python3.10/dist-packages (from wandb->-r requirements-optional.txt (line 6)) (3.1.43)\n",
            "Requirement already satisfied: platformdirs in /usr/local/lib/python3.10/dist-packages (from wandb->-r requirements-optional.txt (line 6)) (4.3.6)\n",
            "Requirement already satisfied: protobuf!=4.21.0,!=5.28.0,<6,>=3.19.0 in /usr/local/lib/python3.10/dist-packages (from wandb->-r requirements-optional.txt (line 6)) (4.25.5)\n",
            "Requirement already satisfied: psutil>=5.0.0 in /usr/local/lib/python3.10/dist-packages (from wandb->-r requirements-optional.txt (line 6)) (5.9.5)\n",
            "Requirement already satisfied: sentry-sdk>=2.0.0 in /usr/local/lib/python3.10/dist-packages (from wandb->-r requirements-optional.txt (line 6)) (2.18.0)\n",
            "Requirement already satisfied: setuptools in /usr/local/lib/python3.10/dist-packages (from wandb->-r requirements-optional.txt (line 6)) (75.1.0)\n",
            "Requirement already satisfied: typing-extensions<5,>=4.4 in /usr/local/lib/python3.10/dist-packages (from wandb->-r requirements-optional.txt (line 6)) (4.12.2)\n",
            "Requirement already satisfied: python-dateutil>=2.8.2 in /usr/local/lib/python3.10/dist-packages (from pandas->-r requirements-optional.txt (line 8)) (2.8.2)\n",
            "Requirement already satisfied: pytz>=2020.1 in /usr/local/lib/python3.10/dist-packages (from pandas->-r requirements-optional.txt (line 8)) (2024.2)\n",
            "Requirement already satisfied: tzdata>=2022.7 in /usr/local/lib/python3.10/dist-packages (from pandas->-r requirements-optional.txt (line 8)) (2024.2)\n",
            "Requirement already satisfied: ftfy in /usr/local/lib/python3.10/dist-packages (from clip@ git+https://github.com/openai/CLIP.git->-r requirements-optional.txt (line 10)) (6.3.1)\n",
            "Requirement already satisfied: regex in /usr/local/lib/python3.10/dist-packages (from clip@ git+https://github.com/openai/CLIP.git->-r requirements-optional.txt (line 10)) (2024.9.11)\n",
            "Requirement already satisfied: scipy>=1.6.0 in /usr/local/lib/python3.10/dist-packages (from scikit-learn->-r requirements-optional.txt (line 11)) (1.13.1)\n",
            "Requirement already satisfied: joblib>=1.2.0 in /usr/local/lib/python3.10/dist-packages (from scikit-learn->-r requirements-optional.txt (line 11)) (1.4.2)\n",
            "Requirement already satisfied: threadpoolctl>=3.1.0 in /usr/local/lib/python3.10/dist-packages (from scikit-learn->-r requirements-optional.txt (line 11)) (3.5.0)\n",
            "Requirement already satisfied: filelock in /usr/local/lib/python3.10/dist-packages (from transformers->-r requirements-optional.txt (line 14)) (3.16.1)\n",
            "Requirement already satisfied: tokenizers<0.21,>=0.20 in /usr/local/lib/python3.10/dist-packages (from transformers->-r requirements-optional.txt (line 14)) (0.20.3)\n",
            "Requirement already satisfied: six>=1.4.0 in /usr/local/lib/python3.10/dist-packages (from docker-pycreds>=0.4.0->wandb->-r requirements-optional.txt (line 6)) (1.16.0)\n",
            "Requirement already satisfied: gitdb<5,>=4.0.1 in /usr/local/lib/python3.10/dist-packages (from gitpython!=3.1.29,>=1.0.0->wandb->-r requirements-optional.txt (line 6)) (4.0.11)\n",
            "Requirement already satisfied: fsspec>=2023.5.0 in /usr/local/lib/python3.10/dist-packages (from huggingface-hub->timm==0.9.8->-r requirements-optional.txt (line 9)) (2024.10.0)\n",
            "Requirement already satisfied: charset-normalizer<4,>=2 in /usr/local/lib/python3.10/dist-packages (from requests->onedrivedownloader==1.1.3->-r requirements-optional.txt (line 2)) (3.4.0)\n",
            "Requirement already satisfied: idna<4,>=2.5 in /usr/local/lib/python3.10/dist-packages (from requests->onedrivedownloader==1.1.3->-r requirements-optional.txt (line 2)) (3.10)\n",
            "Requirement already satisfied: urllib3<3,>=1.21.1 in /usr/local/lib/python3.10/dist-packages (from requests->onedrivedownloader==1.1.3->-r requirements-optional.txt (line 2)) (2.2.3)\n",
            "Requirement already satisfied: certifi>=2017.4.17 in /usr/local/lib/python3.10/dist-packages (from requests->onedrivedownloader==1.1.3->-r requirements-optional.txt (line 2)) (2024.8.30)\n",
            "Requirement already satisfied: networkx in /usr/local/lib/python3.10/dist-packages (from torch>=1.7->timm==0.9.8->-r requirements-optional.txt (line 9)) (3.4.2)\n",
            "Requirement already satisfied: jinja2 in /usr/local/lib/python3.10/dist-packages (from torch>=1.7->timm==0.9.8->-r requirements-optional.txt (line 9)) (3.1.4)\n",
            "Requirement already satisfied: sympy==1.13.1 in /usr/local/lib/python3.10/dist-packages (from torch>=1.7->timm==0.9.8->-r requirements-optional.txt (line 9)) (1.13.1)\n",
            "Requirement already satisfied: mpmath<1.4,>=1.1.0 in /usr/local/lib/python3.10/dist-packages (from sympy==1.13.1->torch>=1.7->timm==0.9.8->-r requirements-optional.txt (line 9)) (1.3.0)\n",
            "Requirement already satisfied: wcwidth in /usr/local/lib/python3.10/dist-packages (from ftfy->clip@ git+https://github.com/openai/CLIP.git->-r requirements-optional.txt (line 10)) (0.2.13)\n",
            "Requirement already satisfied: pillow!=8.3.*,>=5.3.0 in /usr/local/lib/python3.10/dist-packages (from torchvision->timm==0.9.8->-r requirements-optional.txt (line 9)) (11.0.0)\n",
            "Requirement already satisfied: smmap<6,>=3.0.1 in /usr/local/lib/python3.10/dist-packages (from gitdb<5,>=4.0.1->gitpython!=3.1.29,>=1.0.0->wandb->-r requirements-optional.txt (line 6)) (5.0.1)\n",
            "Requirement already satisfied: MarkupSafe>=2.0 in /usr/local/lib/python3.10/dist-packages (from jinja2->torch>=1.7->timm==0.9.8->-r requirements-optional.txt (line 9)) (3.0.2)\n",
            "Requirement already satisfied: python-dotenv in /usr/local/lib/python3.10/dist-packages (1.0.1)\n"
          ]
        }
      ],
      "source": [
        "# Clean directory if needed\n",
        "#%cd /content\n",
        "#!rm -rf *\n",
        "!git clone https://github.com/aimagelab/mammoth.git\n",
        "\n",
        "%cd mammoth\n",
        "!pip install -r requirements.txt\n",
        "!pip install -r requirements-optional.txt\n",
        "!pip install python-dotenv"
      ]
    },
    {
      "cell_type": "code",
      "source": [
        "# Before running this cell: modify file mammoth/datasets/utils/continual_dataset.py as follows\n",
        "# Add : from typing import Any\n",
        "# Replace 2 occurences of torch.Any by Any\n",
        "\n",
        "!python utils/main.py --help\n",
        "\n",
        "# To see more params:\n",
        "#!python utils/main.py --dataset seq_mnist --model lwf"
      ],
      "metadata": {
        "colab": {
          "base_uri": "https://localhost:8080/"
        },
        "collapsed": true,
        "id": "kSsl93lbiuo7",
        "outputId": "9ff418b0-c10f-49f9-c7b2-41232a019b69"
      },
      "execution_count": 3,
      "outputs": [
        {
          "output_type": "stream",
          "name": "stdout",
          "text": [
            "[INFO] 26-Nov-24 21:56:51 - Running Mammoth! on 5e3080e0d908. (if you see this message more than once, you are probably importing something wrong)\n",
            "[INFO] 26-Nov-24 21:56:55 - NumExpr defaulting to 2 threads.\n",
            "usage: main.py [-h] --dataset\n",
            "               {seq-chestx,seq-cifar100-224,seq-cars196,seq-mnist,seq-resisc45,seq-tinyimg,seq-tinyimg-r,seq-isic,seq-cifar10,seq-imagenet-r,seq-cropdisease,seq-cifar100-224-rs,mnist-360,seq-cifar10-224-rs,seq-eurosat-rgb,rot-mnist,perm-mnist,seq-cub200,seq-cifar10-224,seq-mit67,seq-cub200-rs,seq-cifar100}\n",
            "               --model\n",
            "               {derpp-lider,clip,agem,gem,starprompt,agem-r,cgil,puridiver,gdumb,er-tricks,dap,twf,moe-adapters,sgd,mer,derpp,joint-gcl,l2p,first-stage-starprompt,icarl-lider,attriclip,der,bic,lwf-mc,er-ace-tricks,coda-prompt,si,rpc,llava,er-ace,icarl,xder-rpc,slca,dualprompt,fdr,pnn,hal,er-ace-aer-abs,joint,ranpac,gss,xder,er,xder-ce,er-ace-lider,lwf,second-stage-starprompt,ccic,lucir,ewc-on,gdumb-lider,idefics}\n",
            "               [--backbone {resnet50,resnet50_pt,mnistmlp,vit,resnet18,resnet34}]\n",
            "               [--load_best_args]\n",
            "\n",
            "Mammoth - An Extendible (General) Continual Learning Framework for Pytorch\n",
            "\n",
            "options:\n",
            "  -h, --help            show this help message and exit\n",
            "  --dataset {seq-chestx,seq-cifar100-224,seq-cars196,seq-mnist,seq-resisc45,seq-tinyimg,seq-tinyimg-r,seq-isic,seq-cifar10,seq-imagenet-r,seq-cropdisease,seq-cifar100-224-rs,mnist-360,seq-cifar10-224-rs,seq-eurosat-rgb,rot-mnist,perm-mnist,seq-cub200,seq-cifar10-224,seq-mit67,seq-cub200-rs,seq-cifar100}\n",
            "                        Which dataset to perform experiments on.\n",
            "  --model {derpp-lider,clip,agem,gem,starprompt,agem-r,cgil,puridiver,gdumb,er-tricks,dap,twf,moe-adapters,sgd,mer,derpp,joint-gcl,l2p,first-stage-starprompt,icarl-lider,attriclip,der,bic,lwf-mc,er-ace-tricks,coda-prompt,si,rpc,llava,er-ace,icarl,xder-rpc,slca,dualprompt,fdr,pnn,hal,er-ace-aer-abs,joint,ranpac,gss,xder,er,xder-ce,er-ace-lider,lwf,second-stage-starprompt,ccic,lucir,ewc-on,gdumb-lider,idefics}\n",
            "                        Model name.\n",
            "  --backbone {resnet50,resnet50_pt,mnistmlp,vit,resnet18,resnet34}\n",
            "                        Backbone network name.\n",
            "  --load_best_args      (deprecated) Loads the best arguments for each method, dataset and memory\n",
            "                        buffer. NOTE: This option is deprecated and not up to date.\n"
          ]
        }
      ]
    },
    {
      "cell_type": "code",
      "source": [
        "# If you want to use wandb\n",
        "#import wandb\n",
        "#wandb.init(project='testMnistLwf',\n",
        "#           entity='ninocourtecuisse-ethz')"
      ],
      "metadata": {
        "colab": {
          "base_uri": "https://localhost:8080/",
          "height": 120
        },
        "collapsed": true,
        "id": "NKMliYOmPl6N",
        "outputId": "1f312bfb-18d1-4d98-c776-7c48f6ab7081"
      },
      "execution_count": 12,
      "outputs": [
        {
          "output_type": "display_data",
          "data": {
            "text/plain": [
              "<IPython.core.display.HTML object>"
            ],
            "text/html": [
              "Tracking run with wandb version 0.18.7"
            ]
          },
          "metadata": {}
        },
        {
          "output_type": "display_data",
          "data": {
            "text/plain": [
              "<IPython.core.display.HTML object>"
            ],
            "text/html": [
              "Run data is saved locally in <code>/content/mammoth/wandb/run-20241126_210135-53onaffa</code>"
            ]
          },
          "metadata": {}
        },
        {
          "output_type": "display_data",
          "data": {
            "text/plain": [
              "<IPython.core.display.HTML object>"
            ],
            "text/html": [
              "Syncing run <strong><a href='https://wandb.ai/ninocourtecuisse-ethz/testMnistLwf/runs/53onaffa' target=\"_blank\">devout-cloud-3</a></strong> to <a href='https://wandb.ai/ninocourtecuisse-ethz/testMnistLwf' target=\"_blank\">Weights & Biases</a> (<a href='https://wandb.me/developer-guide' target=\"_blank\">docs</a>)<br/>"
            ]
          },
          "metadata": {}
        },
        {
          "output_type": "display_data",
          "data": {
            "text/plain": [
              "<IPython.core.display.HTML object>"
            ],
            "text/html": [
              " View project at <a href='https://wandb.ai/ninocourtecuisse-ethz/testMnistLwf' target=\"_blank\">https://wandb.ai/ninocourtecuisse-ethz/testMnistLwf</a>"
            ]
          },
          "metadata": {}
        },
        {
          "output_type": "display_data",
          "data": {
            "text/plain": [
              "<IPython.core.display.HTML object>"
            ],
            "text/html": [
              " View run at <a href='https://wandb.ai/ninocourtecuisse-ethz/testMnistLwf/runs/53onaffa' target=\"_blank\">https://wandb.ai/ninocourtecuisse-ethz/testMnistLwf/runs/53onaffa</a>"
            ]
          },
          "metadata": {}
        },
        {
          "output_type": "execute_result",
          "data": {
            "text/html": [
              "<button onClick=\"this.nextSibling.style.display='block';this.style.display='none';\">Display W&B run</button><iframe src='https://wandb.ai/ninocourtecuisse-ethz/testMnistLwf/runs/53onaffa?jupyter=true' style='border:none;width:100%;height:420px;display:none;'></iframe>"
            ],
            "text/plain": [
              "<wandb.sdk.wandb_run.Run at 0x7e7794fbdae0>"
            ]
          },
          "metadata": {},
          "execution_count": 12
        }
      ]
    },
    {
      "cell_type": "code",
      "source": [
        "# RAM is saturated for --backbone resnet18\n",
        "\n",
        "\"\"\"\n",
        "Test on sequential MNIST:\n",
        "Default backbone : mnistmlp, default architecture: ReLU inx100x100xout, Xavier init\n",
        "10 classes (out=10)\n",
        "5 tasks, learn two classes per task\n",
        "Size of input images = 28x28 (in=28x28)\n",
        "Cross_entropy loss\n",
        "Default batch size 64\n",
        "Default n_epochs 1\n",
        "\n",
        "which numbers are trained in task 1?\n",
        "what is the class-il accuracy? task-il accuracy?\n",
        "\n",
        "Continuous learning model: lwf (Learn Without Forgetting)\n",
        "Compatible with class-il and task-il (il=incremental learning)\n",
        "\"\"\"\n",
        "\n",
        "!python utils/main.py --dataset seq_mnist \\\n",
        "                      --model lwf \\\n",
        "                      --lr 0.001 \\\n",
        "                      --optimizer adam \\\n",
        "                      --seed 42 \\\n",
        "                      #--wandb_entity 'ninocourtecuisse-ethz' \\\n",
        "                      #--wandb_project 'testMnistLwf' \\\n",
        "                      #--batch_size 200 \\\n",
        "                      #--distributed 'dp'\n",
        "                      #--code_optimization 2\n",
        "                      #--backbone mnistmlp \\\n",
        "                      #--alpha 0.0 \\\n",
        "                      #--mlp_hidden_size 100 \\\n",
        "                      #--device \\\n",
        "                      #--stop_after \\\n",
        "                      #--batch_size \\\n",
        "                      #--fitting_mode \\\n",
        "\n",
        "#wandb.finish()"
      ],
      "metadata": {
        "colab": {
          "base_uri": "https://localhost:8080/"
        },
        "collapsed": true,
        "id": "iLGzRygCjGWA",
        "outputId": "58c8b300-ae8b-4a29-9fdd-97fd8e0c094b"
      },
      "execution_count": 4,
      "outputs": [
        {
          "output_type": "stream",
          "name": "stdout",
          "text": [
            "[INFO] 26-Nov-24 21:57:34 - Running Mammoth! on 5e3080e0d908. (if you see this message more than once, you are probably importing something wrong)\n",
            "[INFO] 26-Nov-24 21:57:37 - NumExpr defaulting to 2 threads.\n",
            "[WARNING] 26-Nov-24 21:57:37 - No backbone specified. Using default backbone (set by the dataset).\n",
            "[WARNING] 26-Nov-24 21:57:39 - The installed version of bitsandbytes was compiled without GPU support. 8-bit optimizers, 8-bit multiplication, and GPU quantization are unavailable.\n",
            "2024-11-26 21:57:40.021570: E external/local_xla/xla/stream_executor/cuda/cuda_fft.cc:485] Unable to register cuFFT factory: Attempting to register factory for plugin cuFFT when one has already been registered\n",
            "2024-11-26 21:57:40.065266: E external/local_xla/xla/stream_executor/cuda/cuda_dnn.cc:8454] Unable to register cuDNN factory: Attempting to register factory for plugin cuDNN when one has already been registered\n",
            "2024-11-26 21:57:40.078077: E external/local_xla/xla/stream_executor/cuda/cuda_blas.cc:1452] Unable to register cuBLAS factory: Attempting to register factory for plugin cuBLAS when one has already been registered\n",
            "2024-11-26 21:57:40.116599: I tensorflow/core/platform/cpu_feature_guard.cc:210] This TensorFlow binary is optimized to use available CPU instructions in performance-critical operations.\n",
            "To enable the following instructions: AVX2 FMA, in other operations, rebuild TensorFlow with the appropriate compiler flags.\n",
            "2024-11-26 21:57:41.639304: W tensorflow/compiler/tf2tensorrt/utils/py_utils.cc:38] TF-TRT Warning: Could not find TensorRT\n",
            "[WARNING] 26-Nov-24 21:57:44 - Trying to load default configuration for model lwf but no configuration file found in models/config/lwf.yaml.\n",
            "[WARNING] 26-Nov-24 21:57:44 - Default configuration file not found for dataset seq-mnist. Using the defaults specified in the dataset class (if available).\n",
            "[INFO] 26-Nov-24 21:57:44 - Using device cpu\n",
            "[INFO] 26-Nov-24 21:57:44 - `wandb_entity` and `wandb_project` not set. Disabling wandb.\n",
            "[INFO] 26-Nov-24 21:57:44 - Using backbone: mnistmlp\n",
            "Using BaseMNISTMLP as backbone\n",
            "[ERROR] 26-Nov-24 21:57:44 - could not initialize kornia transforms.\n",
            "Namespace(dataset='seq-mnist', model='lwf', backbone='mnistmlp', load_best_args=False, dataset_config=None, model_config='default', alpha=0.5, softmax_temp=2, mlp_hidden_size=100, seed=42, permute_classes=0, base_path='./data/', results_path='results/', device=device(type='cpu'), notes=None, eval_epochs=None, non_verbose=0, disable_log=0, num_workers=None, enable_other_metrics=0, debug_mode=0, inference_only=0, code_optimization=0, distributed='no', savecheck=None, loadcheck=None, ckpt_name=None, start_from=None, stop_after=None, wandb_name=None, wandb_entity=None, wandb_project=None, lr=0.001, batch_size=64, label_perc=1, label_perc_by_class=1, joint=0, eval_future=0, validation=None, validation_mode='current', fitting_mode='epochs', early_stopping_patience=5, early_stopping_metric='loss', early_stopping_freq=1, early_stopping_epsilon=1e-06, n_epochs=1, n_iters=None, optimizer='adam', optim_wd=0.0, optim_mom=0.0, optim_nesterov=0, lr_scheduler=None, scheduler_mode='epoch', lr_milestones=[], sched_multistep_lr_gamma=0.1, noise_type='symmetric', noise_rate=0, disable_noisy_labels_cache=0, cache_path_noisy_labels='noisy_labels', conf_jobnum='2d25e1a3-8500-4d01-8ec0-f300851db3ef', conf_timestamp='2024-11-26 21:57:44.006037', conf_host='5e3080e0d908', conf_git_hash='3d6fc4b0645734e5d8c416293efadc44f3032382', minibatch_size=64, nowand=1)\n",
            "\n",
            "Downloading http://yann.lecun.com/exdb/mnist/train-images-idx3-ubyte.gz\n",
            "Failed to download (trying next):\n",
            "HTTP Error 403: Forbidden\n",
            "\n",
            "Downloading https://ossci-datasets.s3.amazonaws.com/mnist/train-images-idx3-ubyte.gz\n",
            "Downloading https://ossci-datasets.s3.amazonaws.com/mnist/train-images-idx3-ubyte.gz to ./data/MNIST/MyMNIST/raw/train-images-idx3-ubyte.gz\n",
            "100% 9.91M/9.91M [00:00<00:00, 20.2MB/s]\n",
            "Extracting ./data/MNIST/MyMNIST/raw/train-images-idx3-ubyte.gz to ./data/MNIST/MyMNIST/raw\n",
            "\n",
            "Downloading http://yann.lecun.com/exdb/mnist/train-labels-idx1-ubyte.gz\n",
            "Failed to download (trying next):\n",
            "HTTP Error 403: Forbidden\n",
            "\n",
            "Downloading https://ossci-datasets.s3.amazonaws.com/mnist/train-labels-idx1-ubyte.gz\n",
            "Downloading https://ossci-datasets.s3.amazonaws.com/mnist/train-labels-idx1-ubyte.gz to ./data/MNIST/MyMNIST/raw/train-labels-idx1-ubyte.gz\n",
            "100% 28.9k/28.9k [00:00<00:00, 581kB/s]\n",
            "Extracting ./data/MNIST/MyMNIST/raw/train-labels-idx1-ubyte.gz to ./data/MNIST/MyMNIST/raw\n",
            "\n",
            "Downloading http://yann.lecun.com/exdb/mnist/t10k-images-idx3-ubyte.gz\n",
            "Failed to download (trying next):\n",
            "HTTP Error 403: Forbidden\n",
            "\n",
            "Downloading https://ossci-datasets.s3.amazonaws.com/mnist/t10k-images-idx3-ubyte.gz\n",
            "Downloading https://ossci-datasets.s3.amazonaws.com/mnist/t10k-images-idx3-ubyte.gz to ./data/MNIST/MyMNIST/raw/t10k-images-idx3-ubyte.gz\n",
            "100% 1.65M/1.65M [00:00<00:00, 5.53MB/s]\n",
            "Extracting ./data/MNIST/MyMNIST/raw/t10k-images-idx3-ubyte.gz to ./data/MNIST/MyMNIST/raw\n",
            "\n",
            "Downloading http://yann.lecun.com/exdb/mnist/t10k-labels-idx1-ubyte.gz\n",
            "Failed to download (trying next):\n",
            "HTTP Error 403: Forbidden\n",
            "\n",
            "Downloading https://ossci-datasets.s3.amazonaws.com/mnist/t10k-labels-idx1-ubyte.gz\n",
            "Downloading https://ossci-datasets.s3.amazonaws.com/mnist/t10k-labels-idx1-ubyte.gz to ./data/MNIST/MyMNIST/raw/t10k-labels-idx1-ubyte.gz\n",
            "100% 4.54k/4.54k [00:00<00:00, 10.3MB/s]\n",
            "Extracting ./data/MNIST/MyMNIST/raw/t10k-labels-idx1-ubyte.gz to ./data/MNIST/MyMNIST/raw\n",
            "\n",
            "Downloading http://yann.lecun.com/exdb/mnist/train-images-idx3-ubyte.gz\n",
            "Failed to download (trying next):\n",
            "HTTP Error 403: Forbidden\n",
            "\n",
            "Downloading https://ossci-datasets.s3.amazonaws.com/mnist/train-images-idx3-ubyte.gz\n",
            "Downloading https://ossci-datasets.s3.amazonaws.com/mnist/train-images-idx3-ubyte.gz to ./data/MNIST/MNIST/raw/train-images-idx3-ubyte.gz\n",
            "100% 9.91M/9.91M [00:00<00:00, 21.9MB/s]\n",
            "Extracting ./data/MNIST/MNIST/raw/train-images-idx3-ubyte.gz to ./data/MNIST/MNIST/raw\n",
            "\n",
            "Downloading http://yann.lecun.com/exdb/mnist/train-labels-idx1-ubyte.gz\n",
            "Failed to download (trying next):\n",
            "HTTP Error 403: Forbidden\n",
            "\n",
            "Downloading https://ossci-datasets.s3.amazonaws.com/mnist/train-labels-idx1-ubyte.gz\n",
            "Downloading https://ossci-datasets.s3.amazonaws.com/mnist/train-labels-idx1-ubyte.gz to ./data/MNIST/MNIST/raw/train-labels-idx1-ubyte.gz\n",
            "100% 28.9k/28.9k [00:00<00:00, 589kB/s]\n",
            "Extracting ./data/MNIST/MNIST/raw/train-labels-idx1-ubyte.gz to ./data/MNIST/MNIST/raw\n",
            "\n",
            "Downloading http://yann.lecun.com/exdb/mnist/t10k-images-idx3-ubyte.gz\n",
            "Failed to download (trying next):\n",
            "HTTP Error 403: Forbidden\n",
            "\n",
            "Downloading https://ossci-datasets.s3.amazonaws.com/mnist/t10k-images-idx3-ubyte.gz\n",
            "Downloading https://ossci-datasets.s3.amazonaws.com/mnist/t10k-images-idx3-ubyte.gz to ./data/MNIST/MNIST/raw/t10k-images-idx3-ubyte.gz\n",
            "100% 1.65M/1.65M [00:00<00:00, 5.52MB/s]\n",
            "Extracting ./data/MNIST/MNIST/raw/t10k-images-idx3-ubyte.gz to ./data/MNIST/MNIST/raw\n",
            "\n",
            "Downloading http://yann.lecun.com/exdb/mnist/t10k-labels-idx1-ubyte.gz\n",
            "Failed to download (trying next):\n",
            "HTTP Error 403: Forbidden\n",
            "\n",
            "Downloading https://ossci-datasets.s3.amazonaws.com/mnist/t10k-labels-idx1-ubyte.gz\n",
            "Downloading https://ossci-datasets.s3.amazonaws.com/mnist/t10k-labels-idx1-ubyte.gz to ./data/MNIST/MNIST/raw/t10k-labels-idx1-ubyte.gz\n",
            "100% 4.54k/4.54k [00:00<00:00, 11.8MB/s]\n",
            "Extracting ./data/MNIST/MNIST/raw/t10k-labels-idx1-ubyte.gz to ./data/MNIST/MNIST/raw\n",
            "\n",
            "[INFO] 26-Nov-24 21:57:52 - Using 2 workers for the dataloader.\n",
            "[INFO] 26-Nov-24 21:57:52 - Using 2 workers for the dataloader.\n",
            "Task 1 - Epoch 1: 100% 198/198 [00:04<00:00, 42.08it/s, loss=0.00559, lr=0.001, ep/h=3.76e+3] \n",
            "Evaluating Task 1: 100% 34/34 [00:00<00:00, 44.66it/s, acc_task_1=100]\n",
            "Accuracy for 1 task(s): \t [Class-IL]: 99.95 % \t [Task-IL]: 99.95 %\n",
            "\tRaw accuracy values: Class-IL [99.95271867612293] | Task-IL [99.95271867612293]\n",
            "\n",
            "\n",
            "[INFO] 26-Nov-24 21:57:58 - Using 2 workers for the dataloader.\n",
            "[INFO] 26-Nov-24 21:57:58 - Using 2 workers for the dataloader.\n",
            "Task 2 - Epoch 1: 100% 189/189 [00:04<00:00, 45.72it/s, loss=0.275, lr=0.001, ep/h=2.75e+3]\n",
            "Evaluating Task 2: 100% 66/66 [00:01<00:00, 33.14it/s, acc_task_2=98.1]\n",
            "Accuracy for 2 task(s): \t [Class-IL]: 49.05 % \t [Task-IL]: 99.0 %\n",
            "\tRaw accuracy values: Class-IL [0.0, 98.09010773751224] | Task-IL [99.90543735224587, 98.09010773751224]\n",
            "\n",
            "\n",
            "[INFO] 26-Nov-24 21:58:10 - Using 2 workers for the dataloader.\n",
            "[INFO] 26-Nov-24 21:58:10 - Using 2 workers for the dataloader.\n",
            "Task 3 - Epoch 1: 100% 176/176 [00:03<00:00, 48.71it/s, loss=0.24, lr=0.001, ep/h=5.31e+3] \n",
            "Evaluating Task 3: 100% 96/96 [00:01<00:00, 53.48it/s, acc_task_3=99.4]\n",
            "Accuracy for 3 task(s): \t [Class-IL]: 33.14 % \t [Task-IL]: 98.33 %\n",
            "\tRaw accuracy values: Class-IL [0.0, 0.0, 99.41302027748132] | Task-IL [99.38534278959811, 96.18021547502448, 99.41302027748132]\n",
            "\n",
            "\n",
            "[INFO] 26-Nov-24 21:58:21 - Using 2 workers for the dataloader.\n",
            "[INFO] 26-Nov-24 21:58:21 - Using 2 workers for the dataloader.\n",
            "Task 4 - Epoch 1: 100% 191/191 [00:03<00:00, 48.47it/s, loss=0.262, lr=0.001, ep/h=4.98e+3]\n",
            "Evaluating Task 4: 100% 128/128 [00:02<00:00, 55.70it/s, acc_task_4=99.5]\n",
            "Accuracy for 4 task(s): \t [Class-IL]: 24.87 % \t [Task-IL]: 95.13 %\n",
            "\tRaw accuracy values: Class-IL [0.0, 0.0, 0.0, 99.49647532729104] | Task-IL [89.73995271867612, 92.94809010773751, 98.34578441835646, 99.49647532729104]\n",
            "\n",
            "\n",
            "[INFO] 26-Nov-24 21:58:34 - Using 2 workers for the dataloader.\n",
            "[INFO] 26-Nov-24 21:58:34 - Using 2 workers for the dataloader.\n",
            "Task 5 - Epoch 1: 100% 185/185 [00:03<00:00, 48.04it/s, loss=0.178, lr=0.001, ep/h=2.61e+3]\n",
            "Evaluating Task 5: 100% 159/159 [00:02<00:00, 54.99it/s, acc_task_5=98.1]\n",
            "Accuracy for 5 task(s): \t [Class-IL]: 19.63 % \t [Task-IL]: 89.06 %\n",
            "\tRaw accuracy values: Class-IL [0.0, 0.0, 0.0, 0.0, 98.13414019162884] | Task-IL [79.57446808510639, 74.3388834476004, 93.81003201707577, 99.44612286002014, 98.13414019162884]\n",
            "\n",
            "\n",
            "System stats:\n",
            "\tInitial CPU memory usage: 2302.10 MB\n",
            "\tAverage CPU memory usage: 2438.98 MB\n",
            "\tFinal CPU memory usage: 2438.98 MB\n",
            "\tMax CPU memory usage: 2438.98 MB\n",
            "Logging results and arguments in ./data/results/class-il/seq-mnist/lwf/logs.pyd\n"
          ]
        }
      ]
    },
    {
      "cell_type": "code",
      "source": [],
      "metadata": {
        "id": "2IZH6sBAWky6"
      },
      "execution_count": null,
      "outputs": []
    }
  ]
}